{
  "nbformat": 4,
  "nbformat_minor": 0,
  "metadata": {
    "colab": {
      "provenance": [],
      "toc_visible": true,
      "include_colab_link": true
    },
    "kernelspec": {
      "name": "python3",
      "display_name": "Python 3"
    },
    "language_info": {
      "name": "python"
    }
  },
  "cells": [
    {
      "cell_type": "markdown",
      "metadata": {
        "id": "view-in-github",
        "colab_type": "text"
      },
      "source": [
        "<a href=\"https://colab.research.google.com/github/ammarff/project-based-german-credit/blob/main/project_based.ipynb\" target=\"_parent\"><img src=\"https://colab.research.google.com/assets/colab-badge.svg\" alt=\"Open In Colab\"/></a>"
      ]
    },
    {
      "cell_type": "markdown",
      "source": [
        "# Project Based - Pembelajaran Mesin\n",
        "\n",
        "Anggota:\n",
        "\n",
        "1. Dzaky Audizha Patarai - 1301204195\n",
        "2. Vidya Haikal Imad Fadly -1301204253\n",
        "3. Muhammad Ammar Fathin - 1301201053\n",
        "4. Mohamad Zulistiyan - 1301204037"
      ],
      "metadata": {
        "id": "ye1CEoRArfjn"
      }
    },
    {
      "cell_type": "markdown",
      "source": [
        "# Reading the data into python"
      ],
      "metadata": {
        "id": "98gtBjr_o2cO"
      }
    },
    {
      "cell_type": "code",
      "execution_count": 49,
      "metadata": {
        "id": "WOFgrajxrNKx"
      },
      "outputs": [],
      "source": [
        "import numpy as np \n",
        "import pandas as pd\n",
        "import matplotlib.pyplot as plt\n",
        "import seaborn as sns\n",
        "%matplotlib inline "
      ]
    },
    {
      "cell_type": "code",
      "source": [
        "df = pd.read_csv('https://raw.githubusercontent.com/ammarff/project-based-german-credit/main/dataset/german_credit.csv', sep=';')\n",
        "print('Shape before deleting duplicate values:', df.shape)\n",
        "\n",
        "# Removing duplicate rows if any\n",
        "df=df.drop_duplicates()\n",
        "print('Shape After deleting duplicate values:', df.shape)\n",
        "\n",
        "# Printing sample data\n",
        "# Start observing the Quantitative/Categorical/Qualitative variables\n",
        "df.head(10)"
      ],
      "metadata": {
        "colab": {
          "base_uri": "https://localhost:8080/",
          "height": 890
        },
        "id": "mbPOyavSSEMo",
        "outputId": "bc9f795c-2a21-4b4d-cdb9-8f22b40e11e8"
      },
      "execution_count": 50,
      "outputs": [
        {
          "output_type": "stream",
          "name": "stdout",
          "text": [
            "Shape before deleting duplicate values: (1000, 21)\n",
            "Shape After deleting duplicate values: (1000, 21)\n"
          ]
        },
        {
          "output_type": "execute_result",
          "data": {
            "text/plain": [
              "                                       status  duration  \\\n",
              "0                         no checking account        18   \n",
              "1                         no checking account         9   \n",
              "2                                  ... < 0 DM        12   \n",
              "3                         no checking account        12   \n",
              "4                         no checking account        12   \n",
              "5                         no checking account        10   \n",
              "6                         no checking account         8   \n",
              "7                         no checking account         6   \n",
              "8  ... >= 200 DM / salary for at least 1 year        18   \n",
              "9                                  ... < 0 DM        24   \n",
              "\n",
              "                                credit_history              purpose  amount  \\\n",
              "0      all credits at this bank paid back duly           car (used)    1049   \n",
              "1      all credits at this bank paid back duly               others    2799   \n",
              "2  no credits taken/all credits paid back duly           retraining     841   \n",
              "3      all credits at this bank paid back duly               others    2122   \n",
              "4      all credits at this bank paid back duly               others    2171   \n",
              "5      all credits at this bank paid back duly               others    2241   \n",
              "6      all credits at this bank paid back duly               others    3398   \n",
              "7      all credits at this bank paid back duly               others    1361   \n",
              "8      all credits at this bank paid back duly  furniture/equipment    1098   \n",
              "9  no credits taken/all credits paid back duly  furniture/equipment    3758   \n",
              "\n",
              "                      savings employment_duration installment_rate  \\\n",
              "0  unknown/no savings account              < 1 yr             < 20   \n",
              "1  unknown/no savings account    1 <= ... < 4 yrs   25 <= ... < 35   \n",
              "2               ... <  100 DM    4 <= ... < 7 yrs   25 <= ... < 35   \n",
              "3  unknown/no savings account    1 <= ... < 4 yrs   20 <= ... < 25   \n",
              "4  unknown/no savings account    1 <= ... < 4 yrs             < 20   \n",
              "5  unknown/no savings account              < 1 yr            >= 35   \n",
              "6  unknown/no savings account    4 <= ... < 7 yrs            >= 35   \n",
              "7  unknown/no savings account              < 1 yr   25 <= ... < 35   \n",
              "8  unknown/no savings account          unemployed             < 20   \n",
              "9        100 <= ... <  500 DM          unemployed            >= 35   \n",
              "\n",
              "                    personal_status_sex other_debtors  ...  \\\n",
              "0  female : non-single or male : single          none  ...   \n",
              "1                male : married/widowed          none  ...   \n",
              "2  female : non-single or male : single          none  ...   \n",
              "3                male : married/widowed          none  ...   \n",
              "4                male : married/widowed          none  ...   \n",
              "5                male : married/widowed          none  ...   \n",
              "6                male : married/widowed          none  ...   \n",
              "7                male : married/widowed          none  ...   \n",
              "8  female : non-single or male : single          none  ...   \n",
              "9  female : non-single or male : single          none  ...   \n",
              "\n",
              "                                    property age  other_installment_plans  \\\n",
              "0                               car or other  21                     none   \n",
              "1                      unknown / no property  36                     none   \n",
              "2                      unknown / no property  23                     none   \n",
              "3                      unknown / no property  39                     none   \n",
              "4                               car or other  38                     bank   \n",
              "5                      unknown / no property  48                     none   \n",
              "6                      unknown / no property  39                     none   \n",
              "7                      unknown / no property  40                     none   \n",
              "8  building soc. savings agr./life insurance  65                     none   \n",
              "9                                real estate  23                     none   \n",
              "\n",
              "    housing number_credits                                  job people_liable  \\\n",
              "0  for free              1            skilled employee/official        0 to 2   \n",
              "1  for free         03-Feb            skilled employee/official     3 or more   \n",
              "2  for free              1                 unskilled - resident        0 to 2   \n",
              "3  for free         03-Feb                 unskilled - resident     3 or more   \n",
              "4      rent         03-Feb                 unskilled - resident        0 to 2   \n",
              "5  for free         03-Feb                 unskilled - resident     3 or more   \n",
              "6      rent         03-Feb                 unskilled - resident        0 to 2   \n",
              "7      rent              1                 unskilled - resident     3 or more   \n",
              "8      rent         03-Feb  unemployed/unskilled - non-resident        0 to 2   \n",
              "9  for free              1  unemployed/unskilled - non-resident        0 to 2   \n",
              "\n",
              "  telephone foreign_worker credit_risk  \n",
              "0        no             no        good  \n",
              "1        no             no        good  \n",
              "2        no             no        good  \n",
              "3        no            yes        good  \n",
              "4        no            yes        good  \n",
              "5        no            yes        good  \n",
              "6        no            yes        good  \n",
              "7        no            yes        good  \n",
              "8        no             no        good  \n",
              "9        no             no        good  \n",
              "\n",
              "[10 rows x 21 columns]"
            ],
            "text/html": [
              "\n",
              "  <div id=\"df-e141d8a0-9af8-4767-9785-2cdf2889d2b5\">\n",
              "    <div class=\"colab-df-container\">\n",
              "      <div>\n",
              "<style scoped>\n",
              "    .dataframe tbody tr th:only-of-type {\n",
              "        vertical-align: middle;\n",
              "    }\n",
              "\n",
              "    .dataframe tbody tr th {\n",
              "        vertical-align: top;\n",
              "    }\n",
              "\n",
              "    .dataframe thead th {\n",
              "        text-align: right;\n",
              "    }\n",
              "</style>\n",
              "<table border=\"1\" class=\"dataframe\">\n",
              "  <thead>\n",
              "    <tr style=\"text-align: right;\">\n",
              "      <th></th>\n",
              "      <th>status</th>\n",
              "      <th>duration</th>\n",
              "      <th>credit_history</th>\n",
              "      <th>purpose</th>\n",
              "      <th>amount</th>\n",
              "      <th>savings</th>\n",
              "      <th>employment_duration</th>\n",
              "      <th>installment_rate</th>\n",
              "      <th>personal_status_sex</th>\n",
              "      <th>other_debtors</th>\n",
              "      <th>...</th>\n",
              "      <th>property</th>\n",
              "      <th>age</th>\n",
              "      <th>other_installment_plans</th>\n",
              "      <th>housing</th>\n",
              "      <th>number_credits</th>\n",
              "      <th>job</th>\n",
              "      <th>people_liable</th>\n",
              "      <th>telephone</th>\n",
              "      <th>foreign_worker</th>\n",
              "      <th>credit_risk</th>\n",
              "    </tr>\n",
              "  </thead>\n",
              "  <tbody>\n",
              "    <tr>\n",
              "      <th>0</th>\n",
              "      <td>no checking account</td>\n",
              "      <td>18</td>\n",
              "      <td>all credits at this bank paid back duly</td>\n",
              "      <td>car (used)</td>\n",
              "      <td>1049</td>\n",
              "      <td>unknown/no savings account</td>\n",
              "      <td>&lt; 1 yr</td>\n",
              "      <td>&lt; 20</td>\n",
              "      <td>female : non-single or male : single</td>\n",
              "      <td>none</td>\n",
              "      <td>...</td>\n",
              "      <td>car or other</td>\n",
              "      <td>21</td>\n",
              "      <td>none</td>\n",
              "      <td>for free</td>\n",
              "      <td>1</td>\n",
              "      <td>skilled employee/official</td>\n",
              "      <td>0 to 2</td>\n",
              "      <td>no</td>\n",
              "      <td>no</td>\n",
              "      <td>good</td>\n",
              "    </tr>\n",
              "    <tr>\n",
              "      <th>1</th>\n",
              "      <td>no checking account</td>\n",
              "      <td>9</td>\n",
              "      <td>all credits at this bank paid back duly</td>\n",
              "      <td>others</td>\n",
              "      <td>2799</td>\n",
              "      <td>unknown/no savings account</td>\n",
              "      <td>1 &lt;= ... &lt; 4 yrs</td>\n",
              "      <td>25 &lt;= ... &lt; 35</td>\n",
              "      <td>male : married/widowed</td>\n",
              "      <td>none</td>\n",
              "      <td>...</td>\n",
              "      <td>unknown / no property</td>\n",
              "      <td>36</td>\n",
              "      <td>none</td>\n",
              "      <td>for free</td>\n",
              "      <td>03-Feb</td>\n",
              "      <td>skilled employee/official</td>\n",
              "      <td>3 or more</td>\n",
              "      <td>no</td>\n",
              "      <td>no</td>\n",
              "      <td>good</td>\n",
              "    </tr>\n",
              "    <tr>\n",
              "      <th>2</th>\n",
              "      <td>... &lt; 0 DM</td>\n",
              "      <td>12</td>\n",
              "      <td>no credits taken/all credits paid back duly</td>\n",
              "      <td>retraining</td>\n",
              "      <td>841</td>\n",
              "      <td>... &lt;  100 DM</td>\n",
              "      <td>4 &lt;= ... &lt; 7 yrs</td>\n",
              "      <td>25 &lt;= ... &lt; 35</td>\n",
              "      <td>female : non-single or male : single</td>\n",
              "      <td>none</td>\n",
              "      <td>...</td>\n",
              "      <td>unknown / no property</td>\n",
              "      <td>23</td>\n",
              "      <td>none</td>\n",
              "      <td>for free</td>\n",
              "      <td>1</td>\n",
              "      <td>unskilled - resident</td>\n",
              "      <td>0 to 2</td>\n",
              "      <td>no</td>\n",
              "      <td>no</td>\n",
              "      <td>good</td>\n",
              "    </tr>\n",
              "    <tr>\n",
              "      <th>3</th>\n",
              "      <td>no checking account</td>\n",
              "      <td>12</td>\n",
              "      <td>all credits at this bank paid back duly</td>\n",
              "      <td>others</td>\n",
              "      <td>2122</td>\n",
              "      <td>unknown/no savings account</td>\n",
              "      <td>1 &lt;= ... &lt; 4 yrs</td>\n",
              "      <td>20 &lt;= ... &lt; 25</td>\n",
              "      <td>male : married/widowed</td>\n",
              "      <td>none</td>\n",
              "      <td>...</td>\n",
              "      <td>unknown / no property</td>\n",
              "      <td>39</td>\n",
              "      <td>none</td>\n",
              "      <td>for free</td>\n",
              "      <td>03-Feb</td>\n",
              "      <td>unskilled - resident</td>\n",
              "      <td>3 or more</td>\n",
              "      <td>no</td>\n",
              "      <td>yes</td>\n",
              "      <td>good</td>\n",
              "    </tr>\n",
              "    <tr>\n",
              "      <th>4</th>\n",
              "      <td>no checking account</td>\n",
              "      <td>12</td>\n",
              "      <td>all credits at this bank paid back duly</td>\n",
              "      <td>others</td>\n",
              "      <td>2171</td>\n",
              "      <td>unknown/no savings account</td>\n",
              "      <td>1 &lt;= ... &lt; 4 yrs</td>\n",
              "      <td>&lt; 20</td>\n",
              "      <td>male : married/widowed</td>\n",
              "      <td>none</td>\n",
              "      <td>...</td>\n",
              "      <td>car or other</td>\n",
              "      <td>38</td>\n",
              "      <td>bank</td>\n",
              "      <td>rent</td>\n",
              "      <td>03-Feb</td>\n",
              "      <td>unskilled - resident</td>\n",
              "      <td>0 to 2</td>\n",
              "      <td>no</td>\n",
              "      <td>yes</td>\n",
              "      <td>good</td>\n",
              "    </tr>\n",
              "    <tr>\n",
              "      <th>5</th>\n",
              "      <td>no checking account</td>\n",
              "      <td>10</td>\n",
              "      <td>all credits at this bank paid back duly</td>\n",
              "      <td>others</td>\n",
              "      <td>2241</td>\n",
              "      <td>unknown/no savings account</td>\n",
              "      <td>&lt; 1 yr</td>\n",
              "      <td>&gt;= 35</td>\n",
              "      <td>male : married/widowed</td>\n",
              "      <td>none</td>\n",
              "      <td>...</td>\n",
              "      <td>unknown / no property</td>\n",
              "      <td>48</td>\n",
              "      <td>none</td>\n",
              "      <td>for free</td>\n",
              "      <td>03-Feb</td>\n",
              "      <td>unskilled - resident</td>\n",
              "      <td>3 or more</td>\n",
              "      <td>no</td>\n",
              "      <td>yes</td>\n",
              "      <td>good</td>\n",
              "    </tr>\n",
              "    <tr>\n",
              "      <th>6</th>\n",
              "      <td>no checking account</td>\n",
              "      <td>8</td>\n",
              "      <td>all credits at this bank paid back duly</td>\n",
              "      <td>others</td>\n",
              "      <td>3398</td>\n",
              "      <td>unknown/no savings account</td>\n",
              "      <td>4 &lt;= ... &lt; 7 yrs</td>\n",
              "      <td>&gt;= 35</td>\n",
              "      <td>male : married/widowed</td>\n",
              "      <td>none</td>\n",
              "      <td>...</td>\n",
              "      <td>unknown / no property</td>\n",
              "      <td>39</td>\n",
              "      <td>none</td>\n",
              "      <td>rent</td>\n",
              "      <td>03-Feb</td>\n",
              "      <td>unskilled - resident</td>\n",
              "      <td>0 to 2</td>\n",
              "      <td>no</td>\n",
              "      <td>yes</td>\n",
              "      <td>good</td>\n",
              "    </tr>\n",
              "    <tr>\n",
              "      <th>7</th>\n",
              "      <td>no checking account</td>\n",
              "      <td>6</td>\n",
              "      <td>all credits at this bank paid back duly</td>\n",
              "      <td>others</td>\n",
              "      <td>1361</td>\n",
              "      <td>unknown/no savings account</td>\n",
              "      <td>&lt; 1 yr</td>\n",
              "      <td>25 &lt;= ... &lt; 35</td>\n",
              "      <td>male : married/widowed</td>\n",
              "      <td>none</td>\n",
              "      <td>...</td>\n",
              "      <td>unknown / no property</td>\n",
              "      <td>40</td>\n",
              "      <td>none</td>\n",
              "      <td>rent</td>\n",
              "      <td>1</td>\n",
              "      <td>unskilled - resident</td>\n",
              "      <td>3 or more</td>\n",
              "      <td>no</td>\n",
              "      <td>yes</td>\n",
              "      <td>good</td>\n",
              "    </tr>\n",
              "    <tr>\n",
              "      <th>8</th>\n",
              "      <td>... &gt;= 200 DM / salary for at least 1 year</td>\n",
              "      <td>18</td>\n",
              "      <td>all credits at this bank paid back duly</td>\n",
              "      <td>furniture/equipment</td>\n",
              "      <td>1098</td>\n",
              "      <td>unknown/no savings account</td>\n",
              "      <td>unemployed</td>\n",
              "      <td>&lt; 20</td>\n",
              "      <td>female : non-single or male : single</td>\n",
              "      <td>none</td>\n",
              "      <td>...</td>\n",
              "      <td>building soc. savings agr./life insurance</td>\n",
              "      <td>65</td>\n",
              "      <td>none</td>\n",
              "      <td>rent</td>\n",
              "      <td>03-Feb</td>\n",
              "      <td>unemployed/unskilled - non-resident</td>\n",
              "      <td>0 to 2</td>\n",
              "      <td>no</td>\n",
              "      <td>no</td>\n",
              "      <td>good</td>\n",
              "    </tr>\n",
              "    <tr>\n",
              "      <th>9</th>\n",
              "      <td>... &lt; 0 DM</td>\n",
              "      <td>24</td>\n",
              "      <td>no credits taken/all credits paid back duly</td>\n",
              "      <td>furniture/equipment</td>\n",
              "      <td>3758</td>\n",
              "      <td>100 &lt;= ... &lt;  500 DM</td>\n",
              "      <td>unemployed</td>\n",
              "      <td>&gt;= 35</td>\n",
              "      <td>female : non-single or male : single</td>\n",
              "      <td>none</td>\n",
              "      <td>...</td>\n",
              "      <td>real estate</td>\n",
              "      <td>23</td>\n",
              "      <td>none</td>\n",
              "      <td>for free</td>\n",
              "      <td>1</td>\n",
              "      <td>unemployed/unskilled - non-resident</td>\n",
              "      <td>0 to 2</td>\n",
              "      <td>no</td>\n",
              "      <td>no</td>\n",
              "      <td>good</td>\n",
              "    </tr>\n",
              "  </tbody>\n",
              "</table>\n",
              "<p>10 rows × 21 columns</p>\n",
              "</div>\n",
              "      <button class=\"colab-df-convert\" onclick=\"convertToInteractive('df-e141d8a0-9af8-4767-9785-2cdf2889d2b5')\"\n",
              "              title=\"Convert this dataframe to an interactive table.\"\n",
              "              style=\"display:none;\">\n",
              "        \n",
              "  <svg xmlns=\"http://www.w3.org/2000/svg\" height=\"24px\"viewBox=\"0 0 24 24\"\n",
              "       width=\"24px\">\n",
              "    <path d=\"M0 0h24v24H0V0z\" fill=\"none\"/>\n",
              "    <path d=\"M18.56 5.44l.94 2.06.94-2.06 2.06-.94-2.06-.94-.94-2.06-.94 2.06-2.06.94zm-11 1L8.5 8.5l.94-2.06 2.06-.94-2.06-.94L8.5 2.5l-.94 2.06-2.06.94zm10 10l.94 2.06.94-2.06 2.06-.94-2.06-.94-.94-2.06-.94 2.06-2.06.94z\"/><path d=\"M17.41 7.96l-1.37-1.37c-.4-.4-.92-.59-1.43-.59-.52 0-1.04.2-1.43.59L10.3 9.45l-7.72 7.72c-.78.78-.78 2.05 0 2.83L4 21.41c.39.39.9.59 1.41.59.51 0 1.02-.2 1.41-.59l7.78-7.78 2.81-2.81c.8-.78.8-2.07 0-2.86zM5.41 20L4 18.59l7.72-7.72 1.47 1.35L5.41 20z\"/>\n",
              "  </svg>\n",
              "      </button>\n",
              "      \n",
              "  <style>\n",
              "    .colab-df-container {\n",
              "      display:flex;\n",
              "      flex-wrap:wrap;\n",
              "      gap: 12px;\n",
              "    }\n",
              "\n",
              "    .colab-df-convert {\n",
              "      background-color: #E8F0FE;\n",
              "      border: none;\n",
              "      border-radius: 50%;\n",
              "      cursor: pointer;\n",
              "      display: none;\n",
              "      fill: #1967D2;\n",
              "      height: 32px;\n",
              "      padding: 0 0 0 0;\n",
              "      width: 32px;\n",
              "    }\n",
              "\n",
              "    .colab-df-convert:hover {\n",
              "      background-color: #E2EBFA;\n",
              "      box-shadow: 0px 1px 2px rgba(60, 64, 67, 0.3), 0px 1px 3px 1px rgba(60, 64, 67, 0.15);\n",
              "      fill: #174EA6;\n",
              "    }\n",
              "\n",
              "    [theme=dark] .colab-df-convert {\n",
              "      background-color: #3B4455;\n",
              "      fill: #D2E3FC;\n",
              "    }\n",
              "\n",
              "    [theme=dark] .colab-df-convert:hover {\n",
              "      background-color: #434B5C;\n",
              "      box-shadow: 0px 1px 3px 1px rgba(0, 0, 0, 0.15);\n",
              "      filter: drop-shadow(0px 1px 2px rgba(0, 0, 0, 0.3));\n",
              "      fill: #FFFFFF;\n",
              "    }\n",
              "  </style>\n",
              "\n",
              "      <script>\n",
              "        const buttonEl =\n",
              "          document.querySelector('#df-e141d8a0-9af8-4767-9785-2cdf2889d2b5 button.colab-df-convert');\n",
              "        buttonEl.style.display =\n",
              "          google.colab.kernel.accessAllowed ? 'block' : 'none';\n",
              "\n",
              "        async function convertToInteractive(key) {\n",
              "          const element = document.querySelector('#df-e141d8a0-9af8-4767-9785-2cdf2889d2b5');\n",
              "          const dataTable =\n",
              "            await google.colab.kernel.invokeFunction('convertToInteractive',\n",
              "                                                     [key], {});\n",
              "          if (!dataTable) return;\n",
              "\n",
              "          const docLinkHtml = 'Like what you see? Visit the ' +\n",
              "            '<a target=\"_blank\" href=https://colab.research.google.com/notebooks/data_table.ipynb>data table notebook</a>'\n",
              "            + ' to learn more about interactive tables.';\n",
              "          element.innerHTML = '';\n",
              "          dataTable['output_type'] = 'display_data';\n",
              "          await google.colab.output.renderOutput(dataTable, element);\n",
              "          const docLink = document.createElement('div');\n",
              "          docLink.innerHTML = docLinkHtml;\n",
              "          element.appendChild(docLink);\n",
              "        }\n",
              "      </script>\n",
              "    </div>\n",
              "  </div>\n",
              "  "
            ]
          },
          "metadata": {},
          "execution_count": 50
        }
      ]
    },
    {
      "cell_type": "code",
      "source": [
        "# Observing the summarized information of data\n",
        "# Data types, Missing values based on number of non-null values Vs total rows etc.\n",
        "# Remove those variables from data which have too many missing values (Missing Values > 30%)\n",
        "# Remove Qualitative variables which cannot be used in Machine Learning\n",
        "df.info()\n"
      ],
      "metadata": {
        "colab": {
          "base_uri": "https://localhost:8080/"
        },
        "id": "TvfcdmV_VL5b",
        "outputId": "1b4797bb-a89e-4a46-9d2d-cae4e318eaaa"
      },
      "execution_count": 51,
      "outputs": [
        {
          "output_type": "stream",
          "name": "stdout",
          "text": [
            "<class 'pandas.core.frame.DataFrame'>\n",
            "Int64Index: 1000 entries, 0 to 999\n",
            "Data columns (total 21 columns):\n",
            " #   Column                   Non-Null Count  Dtype \n",
            "---  ------                   --------------  ----- \n",
            " 0   status                   1000 non-null   object\n",
            " 1   duration                 1000 non-null   int64 \n",
            " 2   credit_history           1000 non-null   object\n",
            " 3   purpose                  1000 non-null   object\n",
            " 4   amount                   1000 non-null   int64 \n",
            " 5   savings                  1000 non-null   object\n",
            " 6   employment_duration      1000 non-null   object\n",
            " 7   installment_rate         1000 non-null   object\n",
            " 8   personal_status_sex      1000 non-null   object\n",
            " 9   other_debtors            1000 non-null   object\n",
            " 10  present_residence        1000 non-null   object\n",
            " 11  property                 1000 non-null   object\n",
            " 12  age                      1000 non-null   int64 \n",
            " 13  other_installment_plans  1000 non-null   object\n",
            " 14  housing                  1000 non-null   object\n",
            " 15  number_credits           1000 non-null   object\n",
            " 16  job                      1000 non-null   object\n",
            " 17  people_liable            1000 non-null   object\n",
            " 18  telephone                1000 non-null   object\n",
            " 19  foreign_worker           1000 non-null   object\n",
            " 20  credit_risk              1000 non-null   object\n",
            "dtypes: int64(3), object(18)\n",
            "memory usage: 171.9+ KB\n"
          ]
        }
      ]
    },
    {
      "cell_type": "code",
      "source": [
        "# Looking at the descriptive statistics of the data\n",
        "df.describe(include='all')"
      ],
      "metadata": {
        "colab": {
          "base_uri": "https://localhost:8080/",
          "height": 592
        },
        "id": "bP8QonsLfx7k",
        "outputId": "cae8a28b-f96a-49e7-b501-1f63beb6fb84"
      },
      "execution_count": 52,
      "outputs": [
        {
          "output_type": "execute_result",
          "data": {
            "text/plain": [
              "                                            status     duration  \\\n",
              "count                                         1000  1000.000000   \n",
              "unique                                           4          NaN   \n",
              "top     ... >= 200 DM / salary for at least 1 year          NaN   \n",
              "freq                                           394          NaN   \n",
              "mean                                           NaN    20.903000   \n",
              "std                                            NaN    12.058814   \n",
              "min                                            NaN     4.000000   \n",
              "25%                                            NaN    12.000000   \n",
              "50%                                            NaN    18.000000   \n",
              "75%                                            NaN    24.000000   \n",
              "max                                            NaN    72.000000   \n",
              "\n",
              "                                     credit_history              purpose  \\\n",
              "count                                          1000                 1000   \n",
              "unique                                            5                   10   \n",
              "top     no credits taken/all credits paid back duly  furniture/equipment   \n",
              "freq                                            530                  280   \n",
              "mean                                            NaN                  NaN   \n",
              "std                                             NaN                  NaN   \n",
              "min                                             NaN                  NaN   \n",
              "25%                                             NaN                  NaN   \n",
              "50%                                             NaN                  NaN   \n",
              "75%                                             NaN                  NaN   \n",
              "max                                             NaN                  NaN   \n",
              "\n",
              "             amount                     savings employment_duration  \\\n",
              "count    1000.00000                        1000                1000   \n",
              "unique          NaN                           5                   5   \n",
              "top             NaN  unknown/no savings account    1 <= ... < 4 yrs   \n",
              "freq            NaN                         603                 339   \n",
              "mean     3271.24800                         NaN                 NaN   \n",
              "std      2822.75176                         NaN                 NaN   \n",
              "min       250.00000                         NaN                 NaN   \n",
              "25%      1365.50000                         NaN                 NaN   \n",
              "50%      2319.50000                         NaN                 NaN   \n",
              "75%      3972.25000                         NaN                 NaN   \n",
              "max     18424.00000                         NaN                 NaN   \n",
              "\n",
              "       installment_rate     personal_status_sex other_debtors  ...  \\\n",
              "count              1000                    1000          1000  ...   \n",
              "unique                4                       4             3  ...   \n",
              "top                < 20  male : married/widowed          none  ...   \n",
              "freq                476                     548           907  ...   \n",
              "mean                NaN                     NaN           NaN  ...   \n",
              "std                 NaN                     NaN           NaN  ...   \n",
              "min                 NaN                     NaN           NaN  ...   \n",
              "25%                 NaN                     NaN           NaN  ...   \n",
              "50%                 NaN                     NaN           NaN  ...   \n",
              "75%                 NaN                     NaN           NaN  ...   \n",
              "max                 NaN                     NaN           NaN  ...   \n",
              "\n",
              "                                         property         age  \\\n",
              "count                                        1000  1000.00000   \n",
              "unique                                          4         NaN   \n",
              "top     building soc. savings agr./life insurance         NaN   \n",
              "freq                                          332         NaN   \n",
              "mean                                          NaN    35.54200   \n",
              "std                                           NaN    11.35267   \n",
              "min                                           NaN    19.00000   \n",
              "25%                                           NaN    27.00000   \n",
              "50%                                           NaN    33.00000   \n",
              "75%                                           NaN    42.00000   \n",
              "max                                           NaN    75.00000   \n",
              "\n",
              "        other_installment_plans housing number_credits  \\\n",
              "count                      1000    1000           1000   \n",
              "unique                        3       3              4   \n",
              "top                        none    rent              1   \n",
              "freq                        814     714            633   \n",
              "mean                        NaN     NaN            NaN   \n",
              "std                         NaN     NaN            NaN   \n",
              "min                         NaN     NaN            NaN   \n",
              "25%                         NaN     NaN            NaN   \n",
              "50%                         NaN     NaN            NaN   \n",
              "75%                         NaN     NaN            NaN   \n",
              "max                         NaN     NaN            NaN   \n",
              "\n",
              "                              job people_liable telephone foreign_worker  \\\n",
              "count                        1000          1000      1000           1000   \n",
              "unique                          4             2         2              2   \n",
              "top     skilled employee/official        0 to 2        no             no   \n",
              "freq                          630           845       596            963   \n",
              "mean                          NaN           NaN       NaN            NaN   \n",
              "std                           NaN           NaN       NaN            NaN   \n",
              "min                           NaN           NaN       NaN            NaN   \n",
              "25%                           NaN           NaN       NaN            NaN   \n",
              "50%                           NaN           NaN       NaN            NaN   \n",
              "75%                           NaN           NaN       NaN            NaN   \n",
              "max                           NaN           NaN       NaN            NaN   \n",
              "\n",
              "       credit_risk  \n",
              "count         1000  \n",
              "unique           2  \n",
              "top           good  \n",
              "freq           700  \n",
              "mean           NaN  \n",
              "std            NaN  \n",
              "min            NaN  \n",
              "25%            NaN  \n",
              "50%            NaN  \n",
              "75%            NaN  \n",
              "max            NaN  \n",
              "\n",
              "[11 rows x 21 columns]"
            ],
            "text/html": [
              "\n",
              "  <div id=\"df-1ea71107-fef4-4f44-b490-f864ee8d069b\">\n",
              "    <div class=\"colab-df-container\">\n",
              "      <div>\n",
              "<style scoped>\n",
              "    .dataframe tbody tr th:only-of-type {\n",
              "        vertical-align: middle;\n",
              "    }\n",
              "\n",
              "    .dataframe tbody tr th {\n",
              "        vertical-align: top;\n",
              "    }\n",
              "\n",
              "    .dataframe thead th {\n",
              "        text-align: right;\n",
              "    }\n",
              "</style>\n",
              "<table border=\"1\" class=\"dataframe\">\n",
              "  <thead>\n",
              "    <tr style=\"text-align: right;\">\n",
              "      <th></th>\n",
              "      <th>status</th>\n",
              "      <th>duration</th>\n",
              "      <th>credit_history</th>\n",
              "      <th>purpose</th>\n",
              "      <th>amount</th>\n",
              "      <th>savings</th>\n",
              "      <th>employment_duration</th>\n",
              "      <th>installment_rate</th>\n",
              "      <th>personal_status_sex</th>\n",
              "      <th>other_debtors</th>\n",
              "      <th>...</th>\n",
              "      <th>property</th>\n",
              "      <th>age</th>\n",
              "      <th>other_installment_plans</th>\n",
              "      <th>housing</th>\n",
              "      <th>number_credits</th>\n",
              "      <th>job</th>\n",
              "      <th>people_liable</th>\n",
              "      <th>telephone</th>\n",
              "      <th>foreign_worker</th>\n",
              "      <th>credit_risk</th>\n",
              "    </tr>\n",
              "  </thead>\n",
              "  <tbody>\n",
              "    <tr>\n",
              "      <th>count</th>\n",
              "      <td>1000</td>\n",
              "      <td>1000.000000</td>\n",
              "      <td>1000</td>\n",
              "      <td>1000</td>\n",
              "      <td>1000.00000</td>\n",
              "      <td>1000</td>\n",
              "      <td>1000</td>\n",
              "      <td>1000</td>\n",
              "      <td>1000</td>\n",
              "      <td>1000</td>\n",
              "      <td>...</td>\n",
              "      <td>1000</td>\n",
              "      <td>1000.00000</td>\n",
              "      <td>1000</td>\n",
              "      <td>1000</td>\n",
              "      <td>1000</td>\n",
              "      <td>1000</td>\n",
              "      <td>1000</td>\n",
              "      <td>1000</td>\n",
              "      <td>1000</td>\n",
              "      <td>1000</td>\n",
              "    </tr>\n",
              "    <tr>\n",
              "      <th>unique</th>\n",
              "      <td>4</td>\n",
              "      <td>NaN</td>\n",
              "      <td>5</td>\n",
              "      <td>10</td>\n",
              "      <td>NaN</td>\n",
              "      <td>5</td>\n",
              "      <td>5</td>\n",
              "      <td>4</td>\n",
              "      <td>4</td>\n",
              "      <td>3</td>\n",
              "      <td>...</td>\n",
              "      <td>4</td>\n",
              "      <td>NaN</td>\n",
              "      <td>3</td>\n",
              "      <td>3</td>\n",
              "      <td>4</td>\n",
              "      <td>4</td>\n",
              "      <td>2</td>\n",
              "      <td>2</td>\n",
              "      <td>2</td>\n",
              "      <td>2</td>\n",
              "    </tr>\n",
              "    <tr>\n",
              "      <th>top</th>\n",
              "      <td>... &gt;= 200 DM / salary for at least 1 year</td>\n",
              "      <td>NaN</td>\n",
              "      <td>no credits taken/all credits paid back duly</td>\n",
              "      <td>furniture/equipment</td>\n",
              "      <td>NaN</td>\n",
              "      <td>unknown/no savings account</td>\n",
              "      <td>1 &lt;= ... &lt; 4 yrs</td>\n",
              "      <td>&lt; 20</td>\n",
              "      <td>male : married/widowed</td>\n",
              "      <td>none</td>\n",
              "      <td>...</td>\n",
              "      <td>building soc. savings agr./life insurance</td>\n",
              "      <td>NaN</td>\n",
              "      <td>none</td>\n",
              "      <td>rent</td>\n",
              "      <td>1</td>\n",
              "      <td>skilled employee/official</td>\n",
              "      <td>0 to 2</td>\n",
              "      <td>no</td>\n",
              "      <td>no</td>\n",
              "      <td>good</td>\n",
              "    </tr>\n",
              "    <tr>\n",
              "      <th>freq</th>\n",
              "      <td>394</td>\n",
              "      <td>NaN</td>\n",
              "      <td>530</td>\n",
              "      <td>280</td>\n",
              "      <td>NaN</td>\n",
              "      <td>603</td>\n",
              "      <td>339</td>\n",
              "      <td>476</td>\n",
              "      <td>548</td>\n",
              "      <td>907</td>\n",
              "      <td>...</td>\n",
              "      <td>332</td>\n",
              "      <td>NaN</td>\n",
              "      <td>814</td>\n",
              "      <td>714</td>\n",
              "      <td>633</td>\n",
              "      <td>630</td>\n",
              "      <td>845</td>\n",
              "      <td>596</td>\n",
              "      <td>963</td>\n",
              "      <td>700</td>\n",
              "    </tr>\n",
              "    <tr>\n",
              "      <th>mean</th>\n",
              "      <td>NaN</td>\n",
              "      <td>20.903000</td>\n",
              "      <td>NaN</td>\n",
              "      <td>NaN</td>\n",
              "      <td>3271.24800</td>\n",
              "      <td>NaN</td>\n",
              "      <td>NaN</td>\n",
              "      <td>NaN</td>\n",
              "      <td>NaN</td>\n",
              "      <td>NaN</td>\n",
              "      <td>...</td>\n",
              "      <td>NaN</td>\n",
              "      <td>35.54200</td>\n",
              "      <td>NaN</td>\n",
              "      <td>NaN</td>\n",
              "      <td>NaN</td>\n",
              "      <td>NaN</td>\n",
              "      <td>NaN</td>\n",
              "      <td>NaN</td>\n",
              "      <td>NaN</td>\n",
              "      <td>NaN</td>\n",
              "    </tr>\n",
              "    <tr>\n",
              "      <th>std</th>\n",
              "      <td>NaN</td>\n",
              "      <td>12.058814</td>\n",
              "      <td>NaN</td>\n",
              "      <td>NaN</td>\n",
              "      <td>2822.75176</td>\n",
              "      <td>NaN</td>\n",
              "      <td>NaN</td>\n",
              "      <td>NaN</td>\n",
              "      <td>NaN</td>\n",
              "      <td>NaN</td>\n",
              "      <td>...</td>\n",
              "      <td>NaN</td>\n",
              "      <td>11.35267</td>\n",
              "      <td>NaN</td>\n",
              "      <td>NaN</td>\n",
              "      <td>NaN</td>\n",
              "      <td>NaN</td>\n",
              "      <td>NaN</td>\n",
              "      <td>NaN</td>\n",
              "      <td>NaN</td>\n",
              "      <td>NaN</td>\n",
              "    </tr>\n",
              "    <tr>\n",
              "      <th>min</th>\n",
              "      <td>NaN</td>\n",
              "      <td>4.000000</td>\n",
              "      <td>NaN</td>\n",
              "      <td>NaN</td>\n",
              "      <td>250.00000</td>\n",
              "      <td>NaN</td>\n",
              "      <td>NaN</td>\n",
              "      <td>NaN</td>\n",
              "      <td>NaN</td>\n",
              "      <td>NaN</td>\n",
              "      <td>...</td>\n",
              "      <td>NaN</td>\n",
              "      <td>19.00000</td>\n",
              "      <td>NaN</td>\n",
              "      <td>NaN</td>\n",
              "      <td>NaN</td>\n",
              "      <td>NaN</td>\n",
              "      <td>NaN</td>\n",
              "      <td>NaN</td>\n",
              "      <td>NaN</td>\n",
              "      <td>NaN</td>\n",
              "    </tr>\n",
              "    <tr>\n",
              "      <th>25%</th>\n",
              "      <td>NaN</td>\n",
              "      <td>12.000000</td>\n",
              "      <td>NaN</td>\n",
              "      <td>NaN</td>\n",
              "      <td>1365.50000</td>\n",
              "      <td>NaN</td>\n",
              "      <td>NaN</td>\n",
              "      <td>NaN</td>\n",
              "      <td>NaN</td>\n",
              "      <td>NaN</td>\n",
              "      <td>...</td>\n",
              "      <td>NaN</td>\n",
              "      <td>27.00000</td>\n",
              "      <td>NaN</td>\n",
              "      <td>NaN</td>\n",
              "      <td>NaN</td>\n",
              "      <td>NaN</td>\n",
              "      <td>NaN</td>\n",
              "      <td>NaN</td>\n",
              "      <td>NaN</td>\n",
              "      <td>NaN</td>\n",
              "    </tr>\n",
              "    <tr>\n",
              "      <th>50%</th>\n",
              "      <td>NaN</td>\n",
              "      <td>18.000000</td>\n",
              "      <td>NaN</td>\n",
              "      <td>NaN</td>\n",
              "      <td>2319.50000</td>\n",
              "      <td>NaN</td>\n",
              "      <td>NaN</td>\n",
              "      <td>NaN</td>\n",
              "      <td>NaN</td>\n",
              "      <td>NaN</td>\n",
              "      <td>...</td>\n",
              "      <td>NaN</td>\n",
              "      <td>33.00000</td>\n",
              "      <td>NaN</td>\n",
              "      <td>NaN</td>\n",
              "      <td>NaN</td>\n",
              "      <td>NaN</td>\n",
              "      <td>NaN</td>\n",
              "      <td>NaN</td>\n",
              "      <td>NaN</td>\n",
              "      <td>NaN</td>\n",
              "    </tr>\n",
              "    <tr>\n",
              "      <th>75%</th>\n",
              "      <td>NaN</td>\n",
              "      <td>24.000000</td>\n",
              "      <td>NaN</td>\n",
              "      <td>NaN</td>\n",
              "      <td>3972.25000</td>\n",
              "      <td>NaN</td>\n",
              "      <td>NaN</td>\n",
              "      <td>NaN</td>\n",
              "      <td>NaN</td>\n",
              "      <td>NaN</td>\n",
              "      <td>...</td>\n",
              "      <td>NaN</td>\n",
              "      <td>42.00000</td>\n",
              "      <td>NaN</td>\n",
              "      <td>NaN</td>\n",
              "      <td>NaN</td>\n",
              "      <td>NaN</td>\n",
              "      <td>NaN</td>\n",
              "      <td>NaN</td>\n",
              "      <td>NaN</td>\n",
              "      <td>NaN</td>\n",
              "    </tr>\n",
              "    <tr>\n",
              "      <th>max</th>\n",
              "      <td>NaN</td>\n",
              "      <td>72.000000</td>\n",
              "      <td>NaN</td>\n",
              "      <td>NaN</td>\n",
              "      <td>18424.00000</td>\n",
              "      <td>NaN</td>\n",
              "      <td>NaN</td>\n",
              "      <td>NaN</td>\n",
              "      <td>NaN</td>\n",
              "      <td>NaN</td>\n",
              "      <td>...</td>\n",
              "      <td>NaN</td>\n",
              "      <td>75.00000</td>\n",
              "      <td>NaN</td>\n",
              "      <td>NaN</td>\n",
              "      <td>NaN</td>\n",
              "      <td>NaN</td>\n",
              "      <td>NaN</td>\n",
              "      <td>NaN</td>\n",
              "      <td>NaN</td>\n",
              "      <td>NaN</td>\n",
              "    </tr>\n",
              "  </tbody>\n",
              "</table>\n",
              "<p>11 rows × 21 columns</p>\n",
              "</div>\n",
              "      <button class=\"colab-df-convert\" onclick=\"convertToInteractive('df-1ea71107-fef4-4f44-b490-f864ee8d069b')\"\n",
              "              title=\"Convert this dataframe to an interactive table.\"\n",
              "              style=\"display:none;\">\n",
              "        \n",
              "  <svg xmlns=\"http://www.w3.org/2000/svg\" height=\"24px\"viewBox=\"0 0 24 24\"\n",
              "       width=\"24px\">\n",
              "    <path d=\"M0 0h24v24H0V0z\" fill=\"none\"/>\n",
              "    <path d=\"M18.56 5.44l.94 2.06.94-2.06 2.06-.94-2.06-.94-.94-2.06-.94 2.06-2.06.94zm-11 1L8.5 8.5l.94-2.06 2.06-.94-2.06-.94L8.5 2.5l-.94 2.06-2.06.94zm10 10l.94 2.06.94-2.06 2.06-.94-2.06-.94-.94-2.06-.94 2.06-2.06.94z\"/><path d=\"M17.41 7.96l-1.37-1.37c-.4-.4-.92-.59-1.43-.59-.52 0-1.04.2-1.43.59L10.3 9.45l-7.72 7.72c-.78.78-.78 2.05 0 2.83L4 21.41c.39.39.9.59 1.41.59.51 0 1.02-.2 1.41-.59l7.78-7.78 2.81-2.81c.8-.78.8-2.07 0-2.86zM5.41 20L4 18.59l7.72-7.72 1.47 1.35L5.41 20z\"/>\n",
              "  </svg>\n",
              "      </button>\n",
              "      \n",
              "  <style>\n",
              "    .colab-df-container {\n",
              "      display:flex;\n",
              "      flex-wrap:wrap;\n",
              "      gap: 12px;\n",
              "    }\n",
              "\n",
              "    .colab-df-convert {\n",
              "      background-color: #E8F0FE;\n",
              "      border: none;\n",
              "      border-radius: 50%;\n",
              "      cursor: pointer;\n",
              "      display: none;\n",
              "      fill: #1967D2;\n",
              "      height: 32px;\n",
              "      padding: 0 0 0 0;\n",
              "      width: 32px;\n",
              "    }\n",
              "\n",
              "    .colab-df-convert:hover {\n",
              "      background-color: #E2EBFA;\n",
              "      box-shadow: 0px 1px 2px rgba(60, 64, 67, 0.3), 0px 1px 3px 1px rgba(60, 64, 67, 0.15);\n",
              "      fill: #174EA6;\n",
              "    }\n",
              "\n",
              "    [theme=dark] .colab-df-convert {\n",
              "      background-color: #3B4455;\n",
              "      fill: #D2E3FC;\n",
              "    }\n",
              "\n",
              "    [theme=dark] .colab-df-convert:hover {\n",
              "      background-color: #434B5C;\n",
              "      box-shadow: 0px 1px 3px 1px rgba(0, 0, 0, 0.15);\n",
              "      filter: drop-shadow(0px 1px 2px rgba(0, 0, 0, 0.3));\n",
              "      fill: #FFFFFF;\n",
              "    }\n",
              "  </style>\n",
              "\n",
              "      <script>\n",
              "        const buttonEl =\n",
              "          document.querySelector('#df-1ea71107-fef4-4f44-b490-f864ee8d069b button.colab-df-convert');\n",
              "        buttonEl.style.display =\n",
              "          google.colab.kernel.accessAllowed ? 'block' : 'none';\n",
              "\n",
              "        async function convertToInteractive(key) {\n",
              "          const element = document.querySelector('#df-1ea71107-fef4-4f44-b490-f864ee8d069b');\n",
              "          const dataTable =\n",
              "            await google.colab.kernel.invokeFunction('convertToInteractive',\n",
              "                                                     [key], {});\n",
              "          if (!dataTable) return;\n",
              "\n",
              "          const docLinkHtml = 'Like what you see? Visit the ' +\n",
              "            '<a target=\"_blank\" href=https://colab.research.google.com/notebooks/data_table.ipynb>data table notebook</a>'\n",
              "            + ' to learn more about interactive tables.';\n",
              "          element.innerHTML = '';\n",
              "          dataTable['output_type'] = 'display_data';\n",
              "          await google.colab.output.renderOutput(dataTable, element);\n",
              "          const docLink = document.createElement('div');\n",
              "          docLink.innerHTML = docLinkHtml;\n",
              "          element.appendChild(docLink);\n",
              "        }\n",
              "      </script>\n",
              "    </div>\n",
              "  </div>\n",
              "  "
            ]
          },
          "metadata": {},
          "execution_count": 52
        }
      ]
    },
    {
      "cell_type": "code",
      "source": [
        "# Finging unique values for each column\n",
        "# TO understand which column is categorical and which one is Continuous\n",
        "# Typically if the numer of unique values are < 20 then the variable is likely to be a category otherwise continuous\n",
        "df.nunique()"
      ],
      "metadata": {
        "colab": {
          "base_uri": "https://localhost:8080/"
        },
        "id": "VbFt-CCWXpd9",
        "outputId": "131db892-ba42-40a1-d1b2-bf1df834ba12"
      },
      "execution_count": 53,
      "outputs": [
        {
          "output_type": "execute_result",
          "data": {
            "text/plain": [
              "status                       4\n",
              "duration                    33\n",
              "credit_history               5\n",
              "purpose                     10\n",
              "amount                     923\n",
              "savings                      5\n",
              "employment_duration          5\n",
              "installment_rate             4\n",
              "personal_status_sex          4\n",
              "other_debtors                3\n",
              "present_residence            4\n",
              "property                     4\n",
              "age                         53\n",
              "other_installment_plans      3\n",
              "housing                      3\n",
              "number_credits               4\n",
              "job                          4\n",
              "people_liable                2\n",
              "telephone                    2\n",
              "foreign_worker               2\n",
              "credit_risk                  2\n",
              "dtype: int64"
            ]
          },
          "metadata": {},
          "execution_count": 53
        }
      ]
    },
    {
      "cell_type": "code",
      "source": [
        "print(\"Unique values in each categorical column:\")\n",
        "for col in df.select_dtypes(include=[object]):\n",
        "    print(col,\":\", df[col].unique())"
      ],
      "metadata": {
        "colab": {
          "base_uri": "https://localhost:8080/"
        },
        "id": "JjM2zhocieDF",
        "outputId": "31053364-82da-43ce-9dbb-1d2230755acc"
      },
      "execution_count": 54,
      "outputs": [
        {
          "output_type": "stream",
          "name": "stdout",
          "text": [
            "Unique values in each categorical column:\n",
            "status : ['no checking account' '... < 0 DM'\n",
            " '... >= 200 DM / salary for at least 1 year' '0<= ... < 200 DM']\n",
            "credit_history : ['all credits at this bank paid back duly'\n",
            " 'no credits taken/all credits paid back duly'\n",
            " 'existing credits paid back duly till now'\n",
            " 'delay in paying off in the past'\n",
            " 'critical account/other credits elsewhere']\n",
            "purpose : ['car (used)' 'others' 'retraining' 'furniture/equipment' 'car (new)'\n",
            " 'business' 'domestic appliances' 'radio/television' 'repairs' 'vacation']\n",
            "savings : ['unknown/no savings account' '... <  100 DM' '100 <= ... <  500 DM'\n",
            " '... >= 1000 DM' '500 <= ... < 1000 DM']\n",
            "employment_duration : ['< 1 yr' '1 <= ... < 4 yrs' '4 <= ... < 7 yrs' 'unemployed' '>= 7 yrs']\n",
            "installment_rate : ['< 20' '25 <= ... < 35' '20 <= ... < 25' '>= 35']\n",
            "personal_status_sex : ['female : non-single or male : single' 'male : married/widowed'\n",
            " 'female : single' 'male : divorced/separated']\n",
            "other_debtors : ['none' 'guarantor' 'co-applicant']\n",
            "present_residence : ['>= 7 yrs' '1 <= ... < 4 yrs' '4 <= ... < 7 yrs' '< 1 yr']\n",
            "property : ['car or other' 'unknown / no property'\n",
            " 'building soc. savings agr./life insurance' 'real estate']\n",
            "other_installment_plans : ['none' 'bank' 'stores']\n",
            "housing : ['for free' 'rent' 'own']\n",
            "number_credits : ['1' '03-Feb' '05-Apr' '>= 6']\n",
            "job : ['skilled employee/official' 'unskilled - resident'\n",
            " 'unemployed/unskilled - non-resident'\n",
            " 'manager/self-empl./highly qualif. employee']\n",
            "people_liable : ['0 to 2' '3 or more']\n",
            "telephone : ['no' 'yes (under customer name)']\n",
            "foreign_worker : ['no' 'yes']\n",
            "credit_risk : ['good' 'bad']\n"
          ]
        }
      ]
    },
    {
      "cell_type": "code",
      "source": [
        "# # Treating the Ordinal variable first\n",
        "# df['status'].replace({'... < 0 DM':'A11', '0<= ... < 200 DM':'A12','... >= 200 DM / salary for at least 1 year':'A13', 'no checking account':'A14'}, inplace=True)"
      ],
      "metadata": {
        "id": "mUvEG07JigFY"
      },
      "execution_count": 55,
      "outputs": []
    },
    {
      "cell_type": "code",
      "source": [
        "# df['credit_risk'].replace({'good':1, 'bad':0}, inplace=True)"
      ],
      "metadata": {
        "id": "EQ7abSilsWi2"
      },
      "execution_count": 56,
      "outputs": []
    },
    {
      "cell_type": "code",
      "source": [
        "df.head()"
      ],
      "metadata": {
        "colab": {
          "base_uri": "https://localhost:8080/",
          "height": 473
        },
        "id": "dIZ1f6hnjhoC",
        "outputId": "4b51f9a8-7a00-4ffb-c8c2-56221c643aa6"
      },
      "execution_count": 57,
      "outputs": [
        {
          "output_type": "execute_result",
          "data": {
            "text/plain": [
              "                status  duration                               credit_history  \\\n",
              "0  no checking account        18      all credits at this bank paid back duly   \n",
              "1  no checking account         9      all credits at this bank paid back duly   \n",
              "2           ... < 0 DM        12  no credits taken/all credits paid back duly   \n",
              "3  no checking account        12      all credits at this bank paid back duly   \n",
              "4  no checking account        12      all credits at this bank paid back duly   \n",
              "\n",
              "      purpose  amount                     savings employment_duration  \\\n",
              "0  car (used)    1049  unknown/no savings account              < 1 yr   \n",
              "1      others    2799  unknown/no savings account    1 <= ... < 4 yrs   \n",
              "2  retraining     841               ... <  100 DM    4 <= ... < 7 yrs   \n",
              "3      others    2122  unknown/no savings account    1 <= ... < 4 yrs   \n",
              "4      others    2171  unknown/no savings account    1 <= ... < 4 yrs   \n",
              "\n",
              "  installment_rate                   personal_status_sex other_debtors  ...  \\\n",
              "0             < 20  female : non-single or male : single          none  ...   \n",
              "1   25 <= ... < 35                male : married/widowed          none  ...   \n",
              "2   25 <= ... < 35  female : non-single or male : single          none  ...   \n",
              "3   20 <= ... < 25                male : married/widowed          none  ...   \n",
              "4             < 20                male : married/widowed          none  ...   \n",
              "\n",
              "                property age  other_installment_plans   housing  \\\n",
              "0           car or other  21                     none  for free   \n",
              "1  unknown / no property  36                     none  for free   \n",
              "2  unknown / no property  23                     none  for free   \n",
              "3  unknown / no property  39                     none  for free   \n",
              "4           car or other  38                     bank      rent   \n",
              "\n",
              "  number_credits                        job people_liable telephone  \\\n",
              "0              1  skilled employee/official        0 to 2        no   \n",
              "1         03-Feb  skilled employee/official     3 or more        no   \n",
              "2              1       unskilled - resident        0 to 2        no   \n",
              "3         03-Feb       unskilled - resident     3 or more        no   \n",
              "4         03-Feb       unskilled - resident        0 to 2        no   \n",
              "\n",
              "  foreign_worker credit_risk  \n",
              "0             no        good  \n",
              "1             no        good  \n",
              "2             no        good  \n",
              "3            yes        good  \n",
              "4            yes        good  \n",
              "\n",
              "[5 rows x 21 columns]"
            ],
            "text/html": [
              "\n",
              "  <div id=\"df-aeb9c4ae-e56e-4238-9c1d-68542715fecb\">\n",
              "    <div class=\"colab-df-container\">\n",
              "      <div>\n",
              "<style scoped>\n",
              "    .dataframe tbody tr th:only-of-type {\n",
              "        vertical-align: middle;\n",
              "    }\n",
              "\n",
              "    .dataframe tbody tr th {\n",
              "        vertical-align: top;\n",
              "    }\n",
              "\n",
              "    .dataframe thead th {\n",
              "        text-align: right;\n",
              "    }\n",
              "</style>\n",
              "<table border=\"1\" class=\"dataframe\">\n",
              "  <thead>\n",
              "    <tr style=\"text-align: right;\">\n",
              "      <th></th>\n",
              "      <th>status</th>\n",
              "      <th>duration</th>\n",
              "      <th>credit_history</th>\n",
              "      <th>purpose</th>\n",
              "      <th>amount</th>\n",
              "      <th>savings</th>\n",
              "      <th>employment_duration</th>\n",
              "      <th>installment_rate</th>\n",
              "      <th>personal_status_sex</th>\n",
              "      <th>other_debtors</th>\n",
              "      <th>...</th>\n",
              "      <th>property</th>\n",
              "      <th>age</th>\n",
              "      <th>other_installment_plans</th>\n",
              "      <th>housing</th>\n",
              "      <th>number_credits</th>\n",
              "      <th>job</th>\n",
              "      <th>people_liable</th>\n",
              "      <th>telephone</th>\n",
              "      <th>foreign_worker</th>\n",
              "      <th>credit_risk</th>\n",
              "    </tr>\n",
              "  </thead>\n",
              "  <tbody>\n",
              "    <tr>\n",
              "      <th>0</th>\n",
              "      <td>no checking account</td>\n",
              "      <td>18</td>\n",
              "      <td>all credits at this bank paid back duly</td>\n",
              "      <td>car (used)</td>\n",
              "      <td>1049</td>\n",
              "      <td>unknown/no savings account</td>\n",
              "      <td>&lt; 1 yr</td>\n",
              "      <td>&lt; 20</td>\n",
              "      <td>female : non-single or male : single</td>\n",
              "      <td>none</td>\n",
              "      <td>...</td>\n",
              "      <td>car or other</td>\n",
              "      <td>21</td>\n",
              "      <td>none</td>\n",
              "      <td>for free</td>\n",
              "      <td>1</td>\n",
              "      <td>skilled employee/official</td>\n",
              "      <td>0 to 2</td>\n",
              "      <td>no</td>\n",
              "      <td>no</td>\n",
              "      <td>good</td>\n",
              "    </tr>\n",
              "    <tr>\n",
              "      <th>1</th>\n",
              "      <td>no checking account</td>\n",
              "      <td>9</td>\n",
              "      <td>all credits at this bank paid back duly</td>\n",
              "      <td>others</td>\n",
              "      <td>2799</td>\n",
              "      <td>unknown/no savings account</td>\n",
              "      <td>1 &lt;= ... &lt; 4 yrs</td>\n",
              "      <td>25 &lt;= ... &lt; 35</td>\n",
              "      <td>male : married/widowed</td>\n",
              "      <td>none</td>\n",
              "      <td>...</td>\n",
              "      <td>unknown / no property</td>\n",
              "      <td>36</td>\n",
              "      <td>none</td>\n",
              "      <td>for free</td>\n",
              "      <td>03-Feb</td>\n",
              "      <td>skilled employee/official</td>\n",
              "      <td>3 or more</td>\n",
              "      <td>no</td>\n",
              "      <td>no</td>\n",
              "      <td>good</td>\n",
              "    </tr>\n",
              "    <tr>\n",
              "      <th>2</th>\n",
              "      <td>... &lt; 0 DM</td>\n",
              "      <td>12</td>\n",
              "      <td>no credits taken/all credits paid back duly</td>\n",
              "      <td>retraining</td>\n",
              "      <td>841</td>\n",
              "      <td>... &lt;  100 DM</td>\n",
              "      <td>4 &lt;= ... &lt; 7 yrs</td>\n",
              "      <td>25 &lt;= ... &lt; 35</td>\n",
              "      <td>female : non-single or male : single</td>\n",
              "      <td>none</td>\n",
              "      <td>...</td>\n",
              "      <td>unknown / no property</td>\n",
              "      <td>23</td>\n",
              "      <td>none</td>\n",
              "      <td>for free</td>\n",
              "      <td>1</td>\n",
              "      <td>unskilled - resident</td>\n",
              "      <td>0 to 2</td>\n",
              "      <td>no</td>\n",
              "      <td>no</td>\n",
              "      <td>good</td>\n",
              "    </tr>\n",
              "    <tr>\n",
              "      <th>3</th>\n",
              "      <td>no checking account</td>\n",
              "      <td>12</td>\n",
              "      <td>all credits at this bank paid back duly</td>\n",
              "      <td>others</td>\n",
              "      <td>2122</td>\n",
              "      <td>unknown/no savings account</td>\n",
              "      <td>1 &lt;= ... &lt; 4 yrs</td>\n",
              "      <td>20 &lt;= ... &lt; 25</td>\n",
              "      <td>male : married/widowed</td>\n",
              "      <td>none</td>\n",
              "      <td>...</td>\n",
              "      <td>unknown / no property</td>\n",
              "      <td>39</td>\n",
              "      <td>none</td>\n",
              "      <td>for free</td>\n",
              "      <td>03-Feb</td>\n",
              "      <td>unskilled - resident</td>\n",
              "      <td>3 or more</td>\n",
              "      <td>no</td>\n",
              "      <td>yes</td>\n",
              "      <td>good</td>\n",
              "    </tr>\n",
              "    <tr>\n",
              "      <th>4</th>\n",
              "      <td>no checking account</td>\n",
              "      <td>12</td>\n",
              "      <td>all credits at this bank paid back duly</td>\n",
              "      <td>others</td>\n",
              "      <td>2171</td>\n",
              "      <td>unknown/no savings account</td>\n",
              "      <td>1 &lt;= ... &lt; 4 yrs</td>\n",
              "      <td>&lt; 20</td>\n",
              "      <td>male : married/widowed</td>\n",
              "      <td>none</td>\n",
              "      <td>...</td>\n",
              "      <td>car or other</td>\n",
              "      <td>38</td>\n",
              "      <td>bank</td>\n",
              "      <td>rent</td>\n",
              "      <td>03-Feb</td>\n",
              "      <td>unskilled - resident</td>\n",
              "      <td>0 to 2</td>\n",
              "      <td>no</td>\n",
              "      <td>yes</td>\n",
              "      <td>good</td>\n",
              "    </tr>\n",
              "  </tbody>\n",
              "</table>\n",
              "<p>5 rows × 21 columns</p>\n",
              "</div>\n",
              "      <button class=\"colab-df-convert\" onclick=\"convertToInteractive('df-aeb9c4ae-e56e-4238-9c1d-68542715fecb')\"\n",
              "              title=\"Convert this dataframe to an interactive table.\"\n",
              "              style=\"display:none;\">\n",
              "        \n",
              "  <svg xmlns=\"http://www.w3.org/2000/svg\" height=\"24px\"viewBox=\"0 0 24 24\"\n",
              "       width=\"24px\">\n",
              "    <path d=\"M0 0h24v24H0V0z\" fill=\"none\"/>\n",
              "    <path d=\"M18.56 5.44l.94 2.06.94-2.06 2.06-.94-2.06-.94-.94-2.06-.94 2.06-2.06.94zm-11 1L8.5 8.5l.94-2.06 2.06-.94-2.06-.94L8.5 2.5l-.94 2.06-2.06.94zm10 10l.94 2.06.94-2.06 2.06-.94-2.06-.94-.94-2.06-.94 2.06-2.06.94z\"/><path d=\"M17.41 7.96l-1.37-1.37c-.4-.4-.92-.59-1.43-.59-.52 0-1.04.2-1.43.59L10.3 9.45l-7.72 7.72c-.78.78-.78 2.05 0 2.83L4 21.41c.39.39.9.59 1.41.59.51 0 1.02-.2 1.41-.59l7.78-7.78 2.81-2.81c.8-.78.8-2.07 0-2.86zM5.41 20L4 18.59l7.72-7.72 1.47 1.35L5.41 20z\"/>\n",
              "  </svg>\n",
              "      </button>\n",
              "      \n",
              "  <style>\n",
              "    .colab-df-container {\n",
              "      display:flex;\n",
              "      flex-wrap:wrap;\n",
              "      gap: 12px;\n",
              "    }\n",
              "\n",
              "    .colab-df-convert {\n",
              "      background-color: #E8F0FE;\n",
              "      border: none;\n",
              "      border-radius: 50%;\n",
              "      cursor: pointer;\n",
              "      display: none;\n",
              "      fill: #1967D2;\n",
              "      height: 32px;\n",
              "      padding: 0 0 0 0;\n",
              "      width: 32px;\n",
              "    }\n",
              "\n",
              "    .colab-df-convert:hover {\n",
              "      background-color: #E2EBFA;\n",
              "      box-shadow: 0px 1px 2px rgba(60, 64, 67, 0.3), 0px 1px 3px 1px rgba(60, 64, 67, 0.15);\n",
              "      fill: #174EA6;\n",
              "    }\n",
              "\n",
              "    [theme=dark] .colab-df-convert {\n",
              "      background-color: #3B4455;\n",
              "      fill: #D2E3FC;\n",
              "    }\n",
              "\n",
              "    [theme=dark] .colab-df-convert:hover {\n",
              "      background-color: #434B5C;\n",
              "      box-shadow: 0px 1px 3px 1px rgba(0, 0, 0, 0.15);\n",
              "      filter: drop-shadow(0px 1px 2px rgba(0, 0, 0, 0.3));\n",
              "      fill: #FFFFFF;\n",
              "    }\n",
              "  </style>\n",
              "\n",
              "      <script>\n",
              "        const buttonEl =\n",
              "          document.querySelector('#df-aeb9c4ae-e56e-4238-9c1d-68542715fecb button.colab-df-convert');\n",
              "        buttonEl.style.display =\n",
              "          google.colab.kernel.accessAllowed ? 'block' : 'none';\n",
              "\n",
              "        async function convertToInteractive(key) {\n",
              "          const element = document.querySelector('#df-aeb9c4ae-e56e-4238-9c1d-68542715fecb');\n",
              "          const dataTable =\n",
              "            await google.colab.kernel.invokeFunction('convertToInteractive',\n",
              "                                                     [key], {});\n",
              "          if (!dataTable) return;\n",
              "\n",
              "          const docLinkHtml = 'Like what you see? Visit the ' +\n",
              "            '<a target=\"_blank\" href=https://colab.research.google.com/notebooks/data_table.ipynb>data table notebook</a>'\n",
              "            + ' to learn more about interactive tables.';\n",
              "          element.innerHTML = '';\n",
              "          dataTable['output_type'] = 'display_data';\n",
              "          await google.colab.output.renderOutput(dataTable, element);\n",
              "          const docLink = document.createElement('div');\n",
              "          docLink.innerHTML = docLinkHtml;\n",
              "          element.appendChild(docLink);\n",
              "        }\n",
              "      </script>\n",
              "    </div>\n",
              "  </div>\n",
              "  "
            ]
          },
          "metadata": {},
          "execution_count": 57
        }
      ]
    },
    {
      "cell_type": "markdown",
      "source": [
        "# Defining the problem statement:"
      ],
      "metadata": {
        "id": "yg7z3cw6o-wB"
      }
    },
    {
      "cell_type": "markdown",
      "source": [],
      "metadata": {
        "id": "02G5NGCGphYF"
      }
    },
    {
      "cell_type": "markdown",
      "source": [
        "Create a Predictive model which can tell weather to approve a loan application or not?\n",
        "* Target Variable: GoodCredit\n",
        "* Predictors: duration, history, purpose, amount, savings etc.\n",
        "* credit_risk=1 means the loan was a good decision.\n",
        "* credit_risk=0 means the loan was a bad decision."
      ],
      "metadata": {
        "id": "x44pWWxApB28"
      }
    },
    {
      "cell_type": "markdown",
      "source": [
        "Determining the type of Machine Learning\n",
        "* Based on the problem statement you can understand that we need to create a supervised ML classification model, as the target variable is categorical.\n"
      ],
      "metadata": {
        "id": "AKdFKasGpVZ6"
      }
    },
    {
      "cell_type": "markdown",
      "source": [
        "# Exploratory Data"
      ],
      "metadata": {
        "id": "Va8HK7diFm7R"
      }
    },
    {
      "cell_type": "markdown",
      "source": [
        "* Categorical variables: Bar plot\n",
        "* Continuous variables: Histogram"
      ],
      "metadata": {
        "id": "cBv8jfTDp9HK"
      }
    },
    {
      "cell_type": "markdown",
      "source": [
        "## Visualize distribution of all the Categorical Predictor variables in the data using bar plots"
      ],
      "metadata": {
        "id": "Zt4T2bgKqN2C"
      }
    },
    {
      "cell_type": "markdown",
      "source": [
        "We can spot a categorical variable in the data by looking at the unique values in them. Typically a categorical variable contains less than 20 Unique values AND there is repetition of values, which means the data can be grouped by those unique values.\n",
        "\n",
        "Based on the Basic Data Exploration above, we have spotted seventeen categorical predictors in the data\n",
        "\n",
        "Categorical Predictors: 'checkingstatus', 'history', 'purpose','savings','employ', 'installment', 'status', 'others','residence', 'property', 'otherplans', 'housing', 'cards', 'job', 'liable', 'tele', 'foreign'\n",
        "\n",
        "We use bar charts to see how the data is distributed for these categorical columns.\n",
        "\n",
        "Since there are so many categorical predictors! We will call below function for 5 at a time."
      ],
      "metadata": {
        "id": "_NRAjas-qQTW"
      }
    },
    {
      "cell_type": "code",
      "source": [
        "# Plotting multiple bar charts at once for categorical variables\n",
        "# Since there is no default function which can plot bar charts for multiple columns at once\n",
        "# we are defining our own function for the same\n",
        "\n",
        "def PlotBarCharts(inpData, colsToPlot):\n",
        "    %matplotlib inline\n",
        "    \n",
        "    import matplotlib.pyplot as plt\n",
        "    \n",
        "    # Generating multiple subplots\n",
        "    fig, subPlot=plt.subplots(nrows=1, ncols=len(colsToPlot), figsize=(20,5))\n",
        "    fig.suptitle('Bar charts of: '+ str(colsToPlot))\n",
        "\n",
        "    for colName, plotNumber in zip(colsToPlot, range(len(colsToPlot))):\n",
        "        inpData.groupby(colName).size().plot(kind='bar',ax=subPlot[plotNumber])"
      ],
      "metadata": {
        "id": "qwowxbr7Fx3p"
      },
      "execution_count": 58,
      "outputs": []
    },
    {
      "cell_type": "code",
      "source": [
        "#####################################################################\n",
        "# Calling the function for 5 columns\n",
        "PlotBarCharts(inpData=df, \n",
        "              colsToPlot=['status', 'credit_history', 'purpose','savings','employment_duration'])"
      ],
      "metadata": {
        "colab": {
          "base_uri": "https://localhost:8080/",
          "height": 569
        },
        "id": "RAayhmnAlRV5",
        "outputId": "338ade4f-e7fb-42d9-e2ac-7d3346aff68e"
      },
      "execution_count": 59,
      "outputs": [
        {
          "output_type": "display_data",
          "data": {
            "text/plain": [
              "<Figure size 1440x360 with 5 Axes>"
            ],
            "image/png": "[encoded data removed]"
          },
          "metadata": {
            "needs_background": "light"
          }
        }
      ]
    },
    {
      "cell_type": "code",
      "source": [
        "#####################################################################\n",
        "# Calling the function for 5 columns\n",
        "PlotBarCharts(inpData=df, \n",
        "              colsToPlot=['installment_rate', 'personal_status_sex', 'other_debtors','present_residence', 'property'])"
      ],
      "metadata": {
        "colab": {
          "base_uri": "https://localhost:8080/",
          "height": 558
        },
        "id": "NCwZ6Jsnlh7_",
        "outputId": "2d5ddcd3-efa6-46ab-c889-636b5916300b"
      },
      "execution_count": 60,
      "outputs": [
        {
          "output_type": "display_data",
          "data": {
            "text/plain": [
              "<Figure size 1440x360 with 5 Axes>"
            ],
            "image/png": "[encoded data removed]"
          },
          "metadata": {
            "needs_background": "light"
          }
        }
      ]
    },
    {
      "cell_type": "code",
      "source": [
        "#####################################################################\n",
        "# Calling the function for 4 columns\n",
        "PlotBarCharts(inpData=df, \n",
        "              colsToPlot=['other_installment_plans', 'housing', 'number_credits', 'job'])"
      ],
      "metadata": {
        "colab": {
          "base_uri": "https://localhost:8080/",
          "height": 577
        },
        "id": "_nGLRqt3mVL-",
        "outputId": "2674414e-9c4c-4d74-bc88-b252811f2e09"
      },
      "execution_count": 61,
      "outputs": [
        {
          "output_type": "display_data",
          "data": {
            "text/plain": [
              "<Figure size 1440x360 with 4 Axes>"
            ],
            "image/png": "[encoded data removed]"
          },
          "metadata": {
            "needs_background": "light"
          }
        }
      ]
    },
    {
      "cell_type": "code",
      "source": [
        "#####################################################################\n",
        "# Calling the function for 3 columns\n",
        "PlotBarCharts(inpData=df, \n",
        "              colsToPlot=['people_liable', 'telephone', 'foreign_worker'])"
      ],
      "metadata": {
        "colab": {
          "base_uri": "https://localhost:8080/",
          "height": 499
        },
        "id": "f78btKs_ncDq",
        "outputId": "7c48ea24-eadf-4466-cc4f-19f4f560f009"
      },
      "execution_count": 62,
      "outputs": [
        {
          "output_type": "display_data",
          "data": {
            "text/plain": [
              "<Figure size 1440x360 with 3 Axes>"
            ],
            "image/png": "[encoded data removed]"
          },
          "metadata": {
            "needs_background": "light"
          }
        }
      ]
    },
    {
      "cell_type": "markdown",
      "source": [
        "## Bar Charts Interpretation"
      ],
      "metadata": {
        "id": "1r06frTDqTWA"
      }
    },
    {
      "cell_type": "markdown",
      "source": [
        "These bar charts represent the frequencies of each category in the Y-axis and the category names in the X-axis.\n",
        "\n",
        "The ideal bar chart looks like the chart of \"property\" column. Where each category has comparable frequency. Hence, there are enough rows for each category in the data for the ML algorithm to learn.\n",
        "\n",
        "If there is a column which shows too skewed distribution like \"foreign\" where there is only one dominant bar and the other categories are present in very low numbers. These kind of columns may not be very helpful in machine learning. We confirm this in the correlation analysis section and take a final call to select or reject the column.\n",
        "\n",
        "In this data, all the categorical columns except \"foreign\" and \"others\" have satisfactory distribution for machine learning.\n",
        "\n",
        "Selected Categorical Variables: All the categorical variables are selected with a doubt on \"foreign\" and \"others\".\n",
        "\n",
        "'checkingstatus', 'history', 'purpose','savings','employ', 'installment', 'status', 'others','residence', 'property', 'otherplans', 'housing', 'cards', 'job', 'liable', 'tele', 'foreign'"
      ],
      "metadata": {
        "id": "fl2gRsKInxW8"
      }
    },
    {
      "cell_type": "markdown",
      "source": [
        "======================================================================================="
      ],
      "metadata": {
        "id": "IxtqBxqln4yN"
      }
    },
    {
      "cell_type": "markdown",
      "source": [
        "## Visualize distribution of all the Continuous Predictor variables in the data using histograms"
      ],
      "metadata": {
        "id": "GVMtjLhIqbg-"
      }
    },
    {
      "cell_type": "markdown",
      "source": [
        "\n",
        "Based on the Basic Data Exploration, There are Three continuous predictor variables 'duration', 'amount',and 'age'."
      ],
      "metadata": {
        "id": "t455Tyj9n3p_"
      }
    },
    {
      "cell_type": "code",
      "source": [
        "# Plotting histograms of multiple columns together\n",
        "# Observe that ApplicantIncome and CoapplicantIncome has outliers\n",
        "df.hist(['age', 'amount','duration'], figsize=(18,10))"
      ],
      "metadata": {
        "colab": {
          "base_uri": "https://localhost:8080/",
          "height": 695
        },
        "id": "xp58xuB1n_lc",
        "outputId": "3a30ef12-a150-4afd-df35-17fdcd664e9b"
      },
      "execution_count": 63,
      "outputs": [
        {
          "output_type": "execute_result",
          "data": {
            "text/plain": [
              "array([[<matplotlib.axes._subplots.AxesSubplot object at 0x7fc6cf95a550>,\n",
              "        <matplotlib.axes._subplots.AxesSubplot object at 0x7fc6cff28820>],\n",
              "       [<matplotlib.axes._subplots.AxesSubplot object at 0x7fc6cfd4fc40>,\n",
              "        <matplotlib.axes._subplots.AxesSubplot object at 0x7fc6cf9ac9a0>]],\n",
              "      dtype=object)"
            ]
          },
          "metadata": {},
          "execution_count": 63
        },
        {
          "output_type": "display_data",
          "data": {
            "text/plain": [
              "<Figure size 1296x720 with 4 Axes>"
            ],
            "image/png": "[encoded data removed]"
          },
          "metadata": {
            "needs_background": "light"
          }
        }
      ]
    },
    {
      "cell_type": "markdown",
      "source": [
        "## Histogram Interpretation"
      ],
      "metadata": {
        "id": "BBy5dIf7qgFW"
      }
    },
    {
      "cell_type": "markdown",
      "source": [
        "\n",
        "Histograms shows us the data distribution for a single continuous variable.\n",
        "\n",
        "The X-axis shows the range of values and Y-axis represent the number of values in that range. For example, in the above histogram of \"age\", there are around 260 rows in data that has age between 25 to 30.\n",
        "\n",
        "The ideal outcome for histogram is a bell curve or slightly skewed bell curve. If there is too much skewness, then outlier treatment should be done and the column should be re-examined, if that also does not solve the problem then only reject the column.\n",
        "\n",
        "Selected Continuous Variables:\n",
        "\n",
        "* age: Selected. Slightly skewed distribution, acceptable.\n",
        "* amount: Selected. Slightly skewed distribution, acceptable.\n",
        "* duration: Selected. Slightly skewed distribution, acceptable."
      ],
      "metadata": {
        "id": "paA0aBTCoDqr"
      }
    },
    {
      "cell_type": "markdown",
      "source": [
        "## Outliers Treatment"
      ],
      "metadata": {
        "id": "dw1_9wZvqnIH"
      }
    },
    {
      "cell_type": "markdown",
      "source": [
        "Outliers are extreme values in the data which are far away from most of the values. You can see them as the tails in the histogram.\n",
        "\n",
        "Outlier must be treated one column at a time. As the treatment will be slightly different for each column.\n",
        "\n",
        "Why I should treat the outliers?\n",
        "\n",
        "Outliers bias the training of machine learning models. As the algorithm tries to fit the extreme value, it goes away from majority of the data.\n",
        "\n",
        "There are below two options to treat outliers in the data.\n",
        "\n",
        "* Option-1: Delete the outlier Records. Only if there are just few rows lost.\n",
        "* Option-2: Impute the outlier values with a logical business value\n",
        "\n",
        "In this data all the continuous variables have slightly skewed distribution, which is acceptable, hence no outlier treatment is required."
      ],
      "metadata": {
        "id": "jY3RpP4Uqq9q"
      }
    },
    {
      "cell_type": "markdown",
      "source": [
        "## Missing values treatment"
      ],
      "metadata": {
        "id": "t-M-LGfgqziY"
      }
    },
    {
      "cell_type": "markdown",
      "source": [
        "Missing values are treated for each column separately.\n",
        "\n",
        "If a column has more than 30% data missing, then missing value treatment cannot be done. That column must be rejected because too much information is missing.\n",
        "\n",
        "There are below options for treating missing values in data.\n",
        "\n",
        "* Delete the missing value rows if there are only few records\n",
        "* Impute the missing values with MEDIAN value for continuous variables\n",
        "* Impute the missing values with MODE value for categorical variables\n",
        "* Interpolate the values based on nearby values\n",
        "* Interpolate the values based on business logic"
      ],
      "metadata": {
        "id": "mImOT4Apq3Q-"
      }
    },
    {
      "cell_type": "code",
      "source": [
        "# Finding how many missing values are there for each column\n",
        "df.isnull().sum()"
      ],
      "metadata": {
        "colab": {
          "base_uri": "https://localhost:8080/"
        },
        "id": "X6fifzOpq7_e",
        "outputId": "b46b432d-1033-4e65-b1ba-d75c7f27e68f"
      },
      "execution_count": 64,
      "outputs": [
        {
          "output_type": "execute_result",
          "data": {
            "text/plain": [
              "status                     0\n",
              "duration                   0\n",
              "credit_history             0\n",
              "purpose                    0\n",
              "amount                     0\n",
              "savings                    0\n",
              "employment_duration        0\n",
              "installment_rate           0\n",
              "personal_status_sex        0\n",
              "other_debtors              0\n",
              "present_residence          0\n",
              "property                   0\n",
              "age                        0\n",
              "other_installment_plans    0\n",
              "housing                    0\n",
              "number_credits             0\n",
              "job                        0\n",
              "people_liable              0\n",
              "telephone                  0\n",
              "foreign_worker             0\n",
              "credit_risk                0\n",
              "dtype: int64"
            ]
          },
          "metadata": {},
          "execution_count": 64
        }
      ]
    },
    {
      "cell_type": "markdown",
      "source": [
        "# Feature Selection"
      ],
      "metadata": {
        "id": "5QTZmsuKrJAO"
      }
    },
    {
      "cell_type": "markdown",
      "source": [
        "Now its time to finally choose the best columns(Features) which are correlated to the Target variable. This can be done directly by measuring the correlation values or ANOVA/Chi-Square tests. However, it is always helpful to visualize the relation between the Target variable and each of the predictors to get a better sense of data.\n",
        "\n",
        "I have listed below the techniques used for visualizing relationship between two variables as well as measuring the strength statistically."
      ],
      "metadata": {
        "id": "hMdIn2XxrNHQ"
      }
    },
    {
      "cell_type": "markdown",
      "source": [
        "Visual exploration of relationship between variables\n",
        "* Continuous Vs Continuous ---- Scatter Plot\n",
        "* Categorical Vs Continuous---- Box Plot\n",
        "* Categorical Vs Categorical---- Grouped Bar Plots\n",
        "\n",
        "Statistical measurement of relationship strength between variables\n",
        "* Continuous Vs Continuous ---- Correlation matrix\n",
        "* Categorical Vs Continuous---- ANOVA test\n",
        "* Categorical Vs Categorical--- Chi-Square test\n",
        "\n",
        "\n",
        "In this case study the Target variable is categorical, hence below two scenarios will be present\n",
        "* Categorical Target Variable Vs Continuous Predictor\n",
        "* Categorical Target Variable Vs Categorical Predictor"
      ],
      "metadata": {
        "id": "goHmfNNirVrV"
      }
    },
    {
      "cell_type": "markdown",
      "source": [
        "## Relationship exploration: Categorical Vs Continuous -- Box Plots"
      ],
      "metadata": {
        "id": "TI-st557rysR"
      }
    },
    {
      "cell_type": "markdown",
      "source": [
        "When the target variable is Categorical and the predictor variable is Continuous we analyze the relation using bar plots/Boxplots and measure the strength of relation using Anova test"
      ],
      "metadata": {
        "id": "zGYuJ98nr7HE"
      }
    },
    {
      "cell_type": "code",
      "source": [
        "# Box plots for Categorical Target Variable \"GoodCredit\" and continuous predictors\n",
        "ContinuousColsList=['age','amount', 'duration']\n",
        "\n",
        "import matplotlib.pyplot as plt\n",
        "fig, PlotCanvas=plt.subplots(nrows=1, ncols=len(ContinuousColsList), figsize=(18,5))\n",
        "\n",
        "# Creating box plots for each continuous predictor against the Target Variable \"GoodCredit\"\n",
        "for PredictorCol , i in zip(ContinuousColsList, range(len(ContinuousColsList))):\n",
        "    df.boxplot(column=PredictorCol, by='credit_risk', figsize=(5,5), vert=True, ax=PlotCanvas[i])"
      ],
      "metadata": {
        "colab": {
          "base_uri": "https://localhost:8080/",
          "height": 486
        },
        "id": "Vuh5v4hvr8ex",
        "outputId": "bb08cca7-da5d-4315-e0d8-05786d77b36e"
      },
      "execution_count": 65,
      "outputs": [
        {
          "output_type": "stream",
          "name": "stderr",
          "text": [
            "/usr/local/lib/python3.8/dist-packages/matplotlib/cbook/__init__.py:1376: VisibleDeprecationWarning: Creating an ndarray from ragged nested sequences (which is a list-or-tuple of lists-or-tuples-or ndarrays with different lengths or shapes) is deprecated. If you meant to do this, you must specify 'dtype=object' when creating the ndarray.\n",
            "  X = np.atleast_1d(X.T if isinstance(X, np.ndarray) else np.asarray(X))\n",
            "/usr/local/lib/python3.8/dist-packages/matplotlib/cbook/__init__.py:1376: VisibleDeprecationWarning: Creating an ndarray from ragged nested sequences (which is a list-or-tuple of lists-or-tuples-or ndarrays with different lengths or shapes) is deprecated. If you meant to do this, you must specify 'dtype=object' when creating the ndarray.\n",
            "  X = np.atleast_1d(X.T if isinstance(X, np.ndarray) else np.asarray(X))\n",
            "/usr/local/lib/python3.8/dist-packages/matplotlib/cbook/__init__.py:1376: VisibleDeprecationWarning: Creating an ndarray from ragged nested sequences (which is a list-or-tuple of lists-or-tuples-or ndarrays with different lengths or shapes) is deprecated. If you meant to do this, you must specify 'dtype=object' when creating the ndarray.\n",
            "  X = np.atleast_1d(X.T if isinstance(X, np.ndarray) else np.asarray(X))\n"
          ]
        },
        {
          "output_type": "display_data",
          "data": {
            "text/plain": [
              "<Figure size 1296x360 with 3 Axes>"
            ],
            "image/png": "[encoded data removed]"
          },
          "metadata": {
            "needs_background": "light"
          }
        }
      ]
    },
    {
      "cell_type": "markdown",
      "source": [
        "## Box-Plots interpretation"
      ],
      "metadata": {
        "id": "PrrJ7RHds6Hu"
      }
    },
    {
      "cell_type": "markdown",
      "source": [
        "These plots gives an idea about the data distribution of continuous predictor in the Y-axis for each of the category in the X-Axis.\n",
        "\n",
        "If the distribution looks similar for each category(Boxes are in the same line), that means the the continuous variable has NO effect on the target variable. Hence, the variables are not correlated to each other.\n",
        "\n",
        "For example, look at the first chart \"age\" Vs \"GoodCredit\". The boxes are in the similar line! It means that people whose loan was rejected and whose loan was approved have same kind of age. Hence, I cannot distinguish between approval and rejection based on the age of an applicant. So this column is NOT correlated with the GoodCredit.\n",
        "\n",
        "The other other two charts also exhibit opposite characteristics, hence \"amount\" and \"duration\" are correlated with the target variable.\n",
        "\n",
        "We confirm this by looking at the results of ANOVA test below"
      ],
      "metadata": {
        "id": "xCQ6emUZs7SE"
      }
    },
    {
      "cell_type": "markdown",
      "source": [
        "## Statistical Feature Selection (Categorical Vs Continuous) using ANOVA test"
      ],
      "metadata": {
        "id": "js7VMiqhs-8s"
      }
    },
    {
      "cell_type": "markdown",
      "source": [
        "Analysis of variance(ANOVA) is performed to check if there is any relationship between the given continuous and categorical variable\n",
        "\n",
        "* Assumption(H0): There is NO relation between the given variables (i.e. The average(mean) values of the numeric Predictor variable is same for all the groups in the categorical Target variable)\n",
        "* ANOVA Test result: Probability of H0 being true"
      ],
      "metadata": {
        "id": "EBUJI9d0tBB3"
      }
    },
    {
      "cell_type": "code",
      "source": [
        "#Defining a function to find the statistical relationship with all the categorical variables\n",
        "def FunctionAnova(inpData, TargetVariable, ContinuousPredictorList):\n",
        "    from scipy.stats import f_oneway\n",
        "\n",
        "    # Creating an empty list of final selected predictors\n",
        "    SelectedPredictors=[]\n",
        "    \n",
        "    print('##### ANOVA Results ##### \\n')\n",
        "    for predictor in ContinuousPredictorList:\n",
        "        CategoryGroupLists=inpData.groupby(TargetVariable)[predictor].apply(list)\n",
        "        AnovaResults = f_oneway(*CategoryGroupLists)\n",
        "        \n",
        "        # If the ANOVA P-Value is <0.05, that means we reject H0\n",
        "        if (AnovaResults[1] < 0.05):\n",
        "            print(predictor, 'is correlated with', TargetVariable, '| P-Value:', AnovaResults[1])\n",
        "            SelectedPredictors.append(predictor)\n",
        "        else:\n",
        "            print(predictor, 'is NOT correlated with', TargetVariable, '| P-Value:', AnovaResults[1])\n",
        "    \n",
        "    return(SelectedPredictors)"
      ],
      "metadata": {
        "id": "suB3crPPtWNg"
      },
      "execution_count": 67,
      "outputs": []
    },
    {
      "cell_type": "code",
      "source": [
        "# Calling the function to check which categorical variables are correlated with target\n",
        "ContinuousVariables=['age', 'amount','duration']\n",
        "FunctionAnova(inpData=df, TargetVariable='credit_risk', ContinuousPredictorList=ContinuousVariables)"
      ],
      "metadata": {
        "colab": {
          "base_uri": "https://localhost:8080/"
        },
        "id": "CxtvNcgZtbbt",
        "outputId": "1d110519-cc6d-4c01-df19-bdf11adbebe6"
      },
      "execution_count": 68,
      "outputs": [
        {
          "output_type": "stream",
          "name": "stdout",
          "text": [
            "##### ANOVA Results ##### \n",
            "\n",
            "age is correlated with credit_risk | P-Value: 0.003868455281308189\n",
            "amount is correlated with credit_risk | P-Value: 8.795399017206301e-07\n",
            "duration is correlated with credit_risk | P-Value: 6.488049877187189e-12\n"
          ]
        },
        {
          "output_type": "execute_result",
          "data": {
            "text/plain": [
              "['age', 'amount', 'duration']"
            ]
          },
          "metadata": {},
          "execution_count": 68
        }
      ]
    },
    {
      "cell_type": "markdown",
      "source": [
        "The results of ANOVA confirm our visual analysis using box plots above!\n",
        "\n",
        "Notice the P-Value of \"age\", it is just at the boundry of the threshold. This is something we already doubted in the box plots section already.\n",
        "\n",
        "While the other two P-Values are clearly zero, hence they are correlated without doubt.\n",
        "\n",
        "All three columns are correlated with credit_risk."
      ],
      "metadata": {
        "id": "cLD9e8v5tkRZ"
      }
    },
    {
      "cell_type": "markdown",
      "source": [
        "## Relationship exploration: Categorical Vs Categorical -- Grouped Bar Charts"
      ],
      "metadata": {
        "id": "3JeqX8iDtvPk"
      }
    },
    {
      "cell_type": "markdown",
      "source": [
        "When the target variable is Categorical and the predictor is also Categorical then we explore the correlation between them visually using barplots and statistically using Chi-square test"
      ],
      "metadata": {
        "id": "Ud53imdctxqB"
      }
    },
    {
      "cell_type": "code",
      "source": [
        "# Cross tablulation between two categorical variables\n",
        "CrossTabResult=pd.crosstab(index=df['status'], columns=df['credit_risk'])\n",
        "CrossTabResult"
      ],
      "metadata": {
        "colab": {
          "base_uri": "https://localhost:8080/",
          "height": 206
        },
        "id": "Np5tzHFutzEQ",
        "outputId": "5e2d28d0-257f-4819-c70d-0a0fbcc51415"
      },
      "execution_count": 69,
      "outputs": [
        {
          "output_type": "execute_result",
          "data": {
            "text/plain": [
              "credit_risk                                 bad  good\n",
              "status                                               \n",
              "... < 0 DM                                  105   164\n",
              "... >= 200 DM / salary for at least 1 year   46   348\n",
              "0<= ... < 200 DM                             14    49\n",
              "no checking account                         135   139"
            ],
            "text/html": [
              "\n",
              "  <div id=\"df-ffd423d5-0637-41d5-bd37-1a1b80579695\">\n",
              "    <div class=\"colab-df-container\">\n",
              "      <div>\n",
              "<style scoped>\n",
              "    .dataframe tbody tr th:only-of-type {\n",
              "        vertical-align: middle;\n",
              "    }\n",
              "\n",
              "    .dataframe tbody tr th {\n",
              "        vertical-align: top;\n",
              "    }\n",
              "\n",
              "    .dataframe thead th {\n",
              "        text-align: right;\n",
              "    }\n",
              "</style>\n",
              "<table border=\"1\" class=\"dataframe\">\n",
              "  <thead>\n",
              "    <tr style=\"text-align: right;\">\n",
              "      <th>credit_risk</th>\n",
              "      <th>bad</th>\n",
              "      <th>good</th>\n",
              "    </tr>\n",
              "    <tr>\n",
              "      <th>status</th>\n",
              "      <th></th>\n",
              "      <th></th>\n",
              "    </tr>\n",
              "  </thead>\n",
              "  <tbody>\n",
              "    <tr>\n",
              "      <th>... &lt; 0 DM</th>\n",
              "      <td>105</td>\n",
              "      <td>164</td>\n",
              "    </tr>\n",
              "    <tr>\n",
              "      <th>... &gt;= 200 DM / salary for at least 1 year</th>\n",
              "      <td>46</td>\n",
              "      <td>348</td>\n",
              "    </tr>\n",
              "    <tr>\n",
              "      <th>0&lt;= ... &lt; 200 DM</th>\n",
              "      <td>14</td>\n",
              "      <td>49</td>\n",
              "    </tr>\n",
              "    <tr>\n",
              "      <th>no checking account</th>\n",
              "      <td>135</td>\n",
              "      <td>139</td>\n",
              "    </tr>\n",
              "  </tbody>\n",
              "</table>\n",
              "</div>\n",
              "      <button class=\"colab-df-convert\" onclick=\"convertToInteractive('df-ffd423d5-0637-41d5-bd37-1a1b80579695')\"\n",
              "              title=\"Convert this dataframe to an interactive table.\"\n",
              "              style=\"display:none;\">\n",
              "        \n",
              "  <svg xmlns=\"http://www.w3.org/2000/svg\" height=\"24px\"viewBox=\"0 0 24 24\"\n",
              "       width=\"24px\">\n",
              "    <path d=\"M0 0h24v24H0V0z\" fill=\"none\"/>\n",
              "    <path d=\"M18.56 5.44l.94 2.06.94-2.06 2.06-.94-2.06-.94-.94-2.06-.94 2.06-2.06.94zm-11 1L8.5 8.5l.94-2.06 2.06-.94-2.06-.94L8.5 2.5l-.94 2.06-2.06.94zm10 10l.94 2.06.94-2.06 2.06-.94-2.06-.94-.94-2.06-.94 2.06-2.06.94z\"/><path d=\"M17.41 7.96l-1.37-1.37c-.4-.4-.92-.59-1.43-.59-.52 0-1.04.2-1.43.59L10.3 9.45l-7.72 7.72c-.78.78-.78 2.05 0 2.83L4 21.41c.39.39.9.59 1.41.59.51 0 1.02-.2 1.41-.59l7.78-7.78 2.81-2.81c.8-.78.8-2.07 0-2.86zM5.41 20L4 18.59l7.72-7.72 1.47 1.35L5.41 20z\"/>\n",
              "  </svg>\n",
              "      </button>\n",
              "      \n",
              "  <style>\n",
              "    .colab-df-container {\n",
              "      display:flex;\n",
              "      flex-wrap:wrap;\n",
              "      gap: 12px;\n",
              "    }\n",
              "\n",
              "    .colab-df-convert {\n",
              "      background-color: #E8F0FE;\n",
              "      border: none;\n",
              "      border-radius: 50%;\n",
              "      cursor: pointer;\n",
              "      display: none;\n",
              "      fill: #1967D2;\n",
              "      height: 32px;\n",
              "      padding: 0 0 0 0;\n",
              "      width: 32px;\n",
              "    }\n",
              "\n",
              "    .colab-df-convert:hover {\n",
              "      background-color: #E2EBFA;\n",
              "      box-shadow: 0px 1px 2px rgba(60, 64, 67, 0.3), 0px 1px 3px 1px rgba(60, 64, 67, 0.15);\n",
              "      fill: #174EA6;\n",
              "    }\n",
              "\n",
              "    [theme=dark] .colab-df-convert {\n",
              "      background-color: #3B4455;\n",
              "      fill: #D2E3FC;\n",
              "    }\n",
              "\n",
              "    [theme=dark] .colab-df-convert:hover {\n",
              "      background-color: #434B5C;\n",
              "      box-shadow: 0px 1px 3px 1px rgba(0, 0, 0, 0.15);\n",
              "      filter: drop-shadow(0px 1px 2px rgba(0, 0, 0, 0.3));\n",
              "      fill: #FFFFFF;\n",
              "    }\n",
              "  </style>\n",
              "\n",
              "      <script>\n",
              "        const buttonEl =\n",
              "          document.querySelector('#df-ffd423d5-0637-41d5-bd37-1a1b80579695 button.colab-df-convert');\n",
              "        buttonEl.style.display =\n",
              "          google.colab.kernel.accessAllowed ? 'block' : 'none';\n",
              "\n",
              "        async function convertToInteractive(key) {\n",
              "          const element = document.querySelector('#df-ffd423d5-0637-41d5-bd37-1a1b80579695');\n",
              "          const dataTable =\n",
              "            await google.colab.kernel.invokeFunction('convertToInteractive',\n",
              "                                                     [key], {});\n",
              "          if (!dataTable) return;\n",
              "\n",
              "          const docLinkHtml = 'Like what you see? Visit the ' +\n",
              "            '<a target=\"_blank\" href=https://colab.research.google.com/notebooks/data_table.ipynb>data table notebook</a>'\n",
              "            + ' to learn more about interactive tables.';\n",
              "          element.innerHTML = '';\n",
              "          dataTable['output_type'] = 'display_data';\n",
              "          await google.colab.output.renderOutput(dataTable, element);\n",
              "          const docLink = document.createElement('div');\n",
              "          docLink.innerHTML = docLinkHtml;\n",
              "          element.appendChild(docLink);\n",
              "        }\n",
              "      </script>\n",
              "    </div>\n",
              "  </div>\n",
              "  "
            ]
          },
          "metadata": {},
          "execution_count": 69
        }
      ]
    },
    {
      "cell_type": "code",
      "source": [
        "# Visual Inference using Grouped Bar charts\n",
        "CategoricalColsList=['status', 'credit_history', 'purpose','savings','employment_duration',\n",
        "                     'installment_rate', 'personal_status_sex', 'other_debtors','present_residence', 'property',\n",
        "                     'other_installment_plans', 'housing', 'number_credits', 'job', 'people_liable', 'telephone', 'foreign_worker']\n",
        "\n",
        "import matplotlib.pyplot as plt\n",
        "fig, PlotCanvas=plt.subplots(nrows=len(CategoricalColsList), ncols=1, figsize=(10,90))\n",
        "\n",
        "# Creating Grouped bar plots for each categorical predictor against the Target Variable \"GoodCredit\"\n",
        "for CategoricalCol , i in zip(CategoricalColsList, range(len(CategoricalColsList))):\n",
        "    CrossTabResult=pd.crosstab(index=df[CategoricalCol], columns=df['credit_risk'])\n",
        "    CrossTabResult.plot.bar(color=['red','green'], ax=PlotCanvas[i])"
      ],
      "metadata": {
        "colab": {
          "base_uri": "https://localhost:8080/",
          "height": 1000
        },
        "id": "-irR3_dOuIZd",
        "outputId": "574fb6a5-b9d9-4a3c-fab9-5c42e2d93f99"
      },
      "execution_count": 72,
      "outputs": [
        {
          "output_type": "display_data",
          "data": {
            "text/plain": [
              "<Figure size 720x6480 with 17 Axes>"
            ],
            "image/png": "[encoded data removed]"
          },
          "metadata": {
            "needs_background": "light"
          }
        }
      ]
    },
    {
      "cell_type": "markdown",
      "source": [
        "## Grouped Bar charts Interpretation"
      ],
      "metadata": {
        "id": "xcogPKgLu2tJ"
      }
    },
    {
      "cell_type": "markdown",
      "source": [
        "hese grouped bar charts show the frequency in the Y-Axis and the category in the X-Axis. If the ratio of bars is similar across all categories, then the two columns are not correlated. For example, look at the \"tele\" Vs \"GoodCredit\" plot. The 0 vs 1 ratio for A191 is similar to A192, it means tele does not affect the Good/Bad Credit!. Hence, these two variables are not correlated.\n",
        "\n",
        "On the other hand, look at the \"history\" vs \"GoodCredit\" plot. The number of Bad Credits are very high if history=A32 and A34. It means history affects the Good/Bad Credit! Hence, two columns are correlated with each other.\n",
        "\n",
        "We confirm this analysis in below section by using Chi-Square Tests."
      ],
      "metadata": {
        "id": "qtPHy18nu5ov"
      }
    },
    {
      "cell_type": "markdown",
      "source": [
        "## Statistical Feature Selection (Categorical Vs Categorical) using Chi-Square Test"
      ],
      "metadata": {
        "id": "rW6PwWf-u7dn"
      }
    },
    {
      "cell_type": "markdown",
      "source": [
        "Chi-Square test is conducted to check the correlation between two categorical variables\n",
        "\n",
        "* Assumption(H0): The two columns are NOT related to each other\n",
        "* Result of Chi-Sq Test: The Probability of H0 being True"
      ],
      "metadata": {
        "id": "XH2xDAE0u-h3"
      }
    },
    {
      "cell_type": "code",
      "source": [
        "# Writing a function to find the correlation of all categorical variables with the Target variable\n",
        "def FunctionChisq(inpData, TargetVariable, CategoricalVariablesList):\n",
        "    from scipy.stats import chi2_contingency\n",
        "    \n",
        "    # Creating an empty list of final selected predictors\n",
        "    SelectedPredictors=[]\n",
        "\n",
        "    for predictor in CategoricalVariablesList:\n",
        "        CrossTabResult=pd.crosstab(index=inpData[TargetVariable], columns=inpData[predictor])\n",
        "        ChiSqResult = chi2_contingency(CrossTabResult)\n",
        "        \n",
        "        # If the ChiSq P-Value is <0.05, that means we reject H0\n",
        "        if (ChiSqResult[1] < 0.05):\n",
        "            print(predictor, 'is correlated with', TargetVariable, '| P-Value:', ChiSqResult[1])\n",
        "            SelectedPredictors.append(predictor)\n",
        "        else:\n",
        "            print(predictor, 'is NOT correlated with', TargetVariable, '| P-Value:', ChiSqResult[1])        \n",
        "            \n",
        "    return(SelectedPredictors)"
      ],
      "metadata": {
        "id": "u-oTOIwovDWl"
      },
      "execution_count": 73,
      "outputs": []
    },
    {
      "cell_type": "code",
      "source": [
        "CategoricalVariables=['status', 'credit_history', 'purpose','savings','employment_duration',\n",
        "                     'installment_rate', 'personal_status_sex', 'other_debtors','present_residence', 'property',\n",
        "                     'other_installment_plans', 'housing', 'number_credits', 'job', 'people_liable', 'telephone', 'foreign_worker']\n",
        "\n",
        "# Calling the function\n",
        "FunctionChisq(inpData=df, \n",
        "              TargetVariable='credit_risk',\n",
        "              CategoricalVariablesList= CategoricalVariables)"
      ],
      "metadata": {
        "colab": {
          "base_uri": "https://localhost:8080/"
        },
        "id": "2ofsvXbMvFnV",
        "outputId": "aa23823d-3e85-409a-f2f1-fb9145df50b3"
      },
      "execution_count": 74,
      "outputs": [
        {
          "output_type": "stream",
          "name": "stdout",
          "text": [
            "status is correlated with credit_risk | P-Value: 1.2189020722893755e-26\n",
            "credit_history is correlated with credit_risk | P-Value: 1.2791872956750918e-12\n",
            "purpose is correlated with credit_risk | P-Value: 0.00011574910079691586\n",
            "savings is correlated with credit_risk | P-Value: 2.7612142385682596e-07\n",
            "employment_duration is correlated with credit_risk | P-Value: 0.0010454523491402522\n",
            "installment_rate is NOT correlated with credit_risk | P-Value: 0.1400333122128481\n",
            "personal_status_sex is correlated with credit_risk | P-Value: 0.02223800546926877\n",
            "other_debtors is correlated with credit_risk | P-Value: 0.036055954027247206\n",
            "present_residence is NOT correlated with credit_risk | P-Value: 0.8615521320413175\n",
            "property is correlated with credit_risk | P-Value: 2.8584415733250017e-05\n",
            "other_installment_plans is correlated with credit_risk | P-Value: 0.0016293178186473534\n",
            "housing is correlated with credit_risk | P-Value: 8.810311250241031e-05\n",
            "number_credits is NOT correlated with credit_risk | P-Value: 0.4451440800083001\n",
            "job is NOT correlated with credit_risk | P-Value: 0.5965815918843431\n",
            "people_liable is NOT correlated with credit_risk | P-Value: 1.0\n",
            "telephone is NOT correlated with credit_risk | P-Value: 0.2788761543035742\n",
            "foreign_worker is correlated with credit_risk | P-Value: 0.015830754902852885\n"
          ]
        },
        {
          "output_type": "execute_result",
          "data": {
            "text/plain": [
              "['status',\n",
              " 'credit_history',\n",
              " 'purpose',\n",
              " 'savings',\n",
              " 'employment_duration',\n",
              " 'personal_status_sex',\n",
              " 'other_debtors',\n",
              " 'property',\n",
              " 'other_installment_plans',\n",
              " 'housing',\n",
              " 'foreign_worker']"
            ]
          },
          "metadata": {},
          "execution_count": 74
        }
      ]
    },
    {
      "cell_type": "markdown",
      "source": [
        "Based on the results of Chi-Square test, below categorical columns are selected as predictors for Machine Learning\n",
        "\n",
        "'checkingstatus', 'history', 'purpose', 'savings', 'employ', 'status', 'others', 'property', 'otherplans', 'housing', 'foreign'"
      ],
      "metadata": {
        "id": "fd98JPfCvQet"
      }
    },
    {
      "cell_type": "markdown",
      "source": [
        "## Selecting final predictors for Machine Learning"
      ],
      "metadata": {
        "id": "Mp44gjPqvUT2"
      }
    },
    {
      "cell_type": "markdown",
      "source": [
        "Based on the above tests, selecting the final columns for machine learning"
      ],
      "metadata": {
        "id": "u3m-JdwZvWnn"
      }
    },
    {
      "cell_type": "code",
      "source": [
        "SelectedColumns=['status', 'credit_history', 'purpose','savings','employment_duration',\n",
        "                      'personal_status_sex', 'other_debtors', 'property',\n",
        "                     'other_installment_plans', 'housing','foreign_worker', 'age','amount', 'duration']\n",
        "\n",
        "# Selecting final columns\n",
        "DataForML=df[SelectedColumns]\n",
        "DataForML.head()"
      ],
      "metadata": {
        "colab": {
          "base_uri": "https://localhost:8080/",
          "height": 424
        },
        "id": "Rrcn3OvyvYtg",
        "outputId": "d5e8e9d3-56a6-459d-9072-5f6eb6f74dae"
      },
      "execution_count": 75,
      "outputs": [
        {
          "output_type": "execute_result",
          "data": {
            "text/plain": [
              "                status                               credit_history  \\\n",
              "0  no checking account      all credits at this bank paid back duly   \n",
              "1  no checking account      all credits at this bank paid back duly   \n",
              "2           ... < 0 DM  no credits taken/all credits paid back duly   \n",
              "3  no checking account      all credits at this bank paid back duly   \n",
              "4  no checking account      all credits at this bank paid back duly   \n",
              "\n",
              "      purpose                     savings employment_duration  \\\n",
              "0  car (used)  unknown/no savings account              < 1 yr   \n",
              "1      others  unknown/no savings account    1 <= ... < 4 yrs   \n",
              "2  retraining               ... <  100 DM    4 <= ... < 7 yrs   \n",
              "3      others  unknown/no savings account    1 <= ... < 4 yrs   \n",
              "4      others  unknown/no savings account    1 <= ... < 4 yrs   \n",
              "\n",
              "                    personal_status_sex other_debtors               property  \\\n",
              "0  female : non-single or male : single          none           car or other   \n",
              "1                male : married/widowed          none  unknown / no property   \n",
              "2  female : non-single or male : single          none  unknown / no property   \n",
              "3                male : married/widowed          none  unknown / no property   \n",
              "4                male : married/widowed          none           car or other   \n",
              "\n",
              "  other_installment_plans   housing foreign_worker  age  amount  duration  \n",
              "0                    none  for free             no   21    1049        18  \n",
              "1                    none  for free             no   36    2799         9  \n",
              "2                    none  for free             no   23     841        12  \n",
              "3                    none  for free            yes   39    2122        12  \n",
              "4                    bank      rent            yes   38    2171        12  "
            ],
            "text/html": [
              "\n",
              "  <div id=\"df-939cb289-7bb7-4697-9203-ef187aa5afd8\">\n",
              "    <div class=\"colab-df-container\">\n",
              "      <div>\n",
              "<style scoped>\n",
              "    .dataframe tbody tr th:only-of-type {\n",
              "        vertical-align: middle;\n",
              "    }\n",
              "\n",
              "    .dataframe tbody tr th {\n",
              "        vertical-align: top;\n",
              "    }\n",
              "\n",
              "    .dataframe thead th {\n",
              "        text-align: right;\n",
              "    }\n",
              "</style>\n",
              "<table border=\"1\" class=\"dataframe\">\n",
              "  <thead>\n",
              "    <tr style=\"text-align: right;\">\n",
              "      <th></th>\n",
              "      <th>status</th>\n",
              "      <th>credit_history</th>\n",
              "      <th>purpose</th>\n",
              "      <th>savings</th>\n",
              "      <th>employment_duration</th>\n",
              "      <th>personal_status_sex</th>\n",
              "      <th>other_debtors</th>\n",
              "      <th>property</th>\n",
              "      <th>other_installment_plans</th>\n",
              "      <th>housing</th>\n",
              "      <th>foreign_worker</th>\n",
              "      <th>age</th>\n",
              "      <th>amount</th>\n",
              "      <th>duration</th>\n",
              "    </tr>\n",
              "  </thead>\n",
              "  <tbody>\n",
              "    <tr>\n",
              "      <th>0</th>\n",
              "      <td>no checking account</td>\n",
              "      <td>all credits at this bank paid back duly</td>\n",
              "      <td>car (used)</td>\n",
              "      <td>unknown/no savings account</td>\n",
              "      <td>&lt; 1 yr</td>\n",
              "      <td>female : non-single or male : single</td>\n",
              "      <td>none</td>\n",
              "      <td>car or other</td>\n",
              "      <td>none</td>\n",
              "      <td>for free</td>\n",
              "      <td>no</td>\n",
              "      <td>21</td>\n",
              "      <td>1049</td>\n",
              "      <td>18</td>\n",
              "    </tr>\n",
              "    <tr>\n",
              "      <th>1</th>\n",
              "      <td>no checking account</td>\n",
              "      <td>all credits at this bank paid back duly</td>\n",
              "      <td>others</td>\n",
              "      <td>unknown/no savings account</td>\n",
              "      <td>1 &lt;= ... &lt; 4 yrs</td>\n",
              "      <td>male : married/widowed</td>\n",
              "      <td>none</td>\n",
              "      <td>unknown / no property</td>\n",
              "      <td>none</td>\n",
              "      <td>for free</td>\n",
              "      <td>no</td>\n",
              "      <td>36</td>\n",
              "      <td>2799</td>\n",
              "      <td>9</td>\n",
              "    </tr>\n",
              "    <tr>\n",
              "      <th>2</th>\n",
              "      <td>... &lt; 0 DM</td>\n",
              "      <td>no credits taken/all credits paid back duly</td>\n",
              "      <td>retraining</td>\n",
              "      <td>... &lt;  100 DM</td>\n",
              "      <td>4 &lt;= ... &lt; 7 yrs</td>\n",
              "      <td>female : non-single or male : single</td>\n",
              "      <td>none</td>\n",
              "      <td>unknown / no property</td>\n",
              "      <td>none</td>\n",
              "      <td>for free</td>\n",
              "      <td>no</td>\n",
              "      <td>23</td>\n",
              "      <td>841</td>\n",
              "      <td>12</td>\n",
              "    </tr>\n",
              "    <tr>\n",
              "      <th>3</th>\n",
              "      <td>no checking account</td>\n",
              "      <td>all credits at this bank paid back duly</td>\n",
              "      <td>others</td>\n",
              "      <td>unknown/no savings account</td>\n",
              "      <td>1 &lt;= ... &lt; 4 yrs</td>\n",
              "      <td>male : married/widowed</td>\n",
              "      <td>none</td>\n",
              "      <td>unknown / no property</td>\n",
              "      <td>none</td>\n",
              "      <td>for free</td>\n",
              "      <td>yes</td>\n",
              "      <td>39</td>\n",
              "      <td>2122</td>\n",
              "      <td>12</td>\n",
              "    </tr>\n",
              "    <tr>\n",
              "      <th>4</th>\n",
              "      <td>no checking account</td>\n",
              "      <td>all credits at this bank paid back duly</td>\n",
              "      <td>others</td>\n",
              "      <td>unknown/no savings account</td>\n",
              "      <td>1 &lt;= ... &lt; 4 yrs</td>\n",
              "      <td>male : married/widowed</td>\n",
              "      <td>none</td>\n",
              "      <td>car or other</td>\n",
              "      <td>bank</td>\n",
              "      <td>rent</td>\n",
              "      <td>yes</td>\n",
              "      <td>38</td>\n",
              "      <td>2171</td>\n",
              "      <td>12</td>\n",
              "    </tr>\n",
              "  </tbody>\n",
              "</table>\n",
              "</div>\n",
              "      <button class=\"colab-df-convert\" onclick=\"convertToInteractive('df-939cb289-7bb7-4697-9203-ef187aa5afd8')\"\n",
              "              title=\"Convert this dataframe to an interactive table.\"\n",
              "              style=\"display:none;\">\n",
              "        \n",
              "  <svg xmlns=\"http://www.w3.org/2000/svg\" height=\"24px\"viewBox=\"0 0 24 24\"\n",
              "       width=\"24px\">\n",
              "    <path d=\"M0 0h24v24H0V0z\" fill=\"none\"/>\n",
              "    <path d=\"M18.56 5.44l.94 2.06.94-2.06 2.06-.94-2.06-.94-.94-2.06-.94 2.06-2.06.94zm-11 1L8.5 8.5l.94-2.06 2.06-.94-2.06-.94L8.5 2.5l-.94 2.06-2.06.94zm10 10l.94 2.06.94-2.06 2.06-.94-2.06-.94-.94-2.06-.94 2.06-2.06.94z\"/><path d=\"M17.41 7.96l-1.37-1.37c-.4-.4-.92-.59-1.43-.59-.52 0-1.04.2-1.43.59L10.3 9.45l-7.72 7.72c-.78.78-.78 2.05 0 2.83L4 21.41c.39.39.9.59 1.41.59.51 0 1.02-.2 1.41-.59l7.78-7.78 2.81-2.81c.8-.78.8-2.07 0-2.86zM5.41 20L4 18.59l7.72-7.72 1.47 1.35L5.41 20z\"/>\n",
              "  </svg>\n",
              "      </button>\n",
              "      \n",
              "  <style>\n",
              "    .colab-df-container {\n",
              "      display:flex;\n",
              "      flex-wrap:wrap;\n",
              "      gap: 12px;\n",
              "    }\n",
              "\n",
              "    .colab-df-convert {\n",
              "      background-color: #E8F0FE;\n",
              "      border: none;\n",
              "      border-radius: 50%;\n",
              "      cursor: pointer;\n",
              "      display: none;\n",
              "      fill: #1967D2;\n",
              "      height: 32px;\n",
              "      padding: 0 0 0 0;\n",
              "      width: 32px;\n",
              "    }\n",
              "\n",
              "    .colab-df-convert:hover {\n",
              "      background-color: #E2EBFA;\n",
              "      box-shadow: 0px 1px 2px rgba(60, 64, 67, 0.3), 0px 1px 3px 1px rgba(60, 64, 67, 0.15);\n",
              "      fill: #174EA6;\n",
              "    }\n",
              "\n",
              "    [theme=dark] .colab-df-convert {\n",
              "      background-color: #3B4455;\n",
              "      fill: #D2E3FC;\n",
              "    }\n",
              "\n",
              "    [theme=dark] .colab-df-convert:hover {\n",
              "      background-color: #434B5C;\n",
              "      box-shadow: 0px 1px 3px 1px rgba(0, 0, 0, 0.15);\n",
              "      filter: drop-shadow(0px 1px 2px rgba(0, 0, 0, 0.3));\n",
              "      fill: #FFFFFF;\n",
              "    }\n",
              "  </style>\n",
              "\n",
              "      <script>\n",
              "        const buttonEl =\n",
              "          document.querySelector('#df-939cb289-7bb7-4697-9203-ef187aa5afd8 button.colab-df-convert');\n",
              "        buttonEl.style.display =\n",
              "          google.colab.kernel.accessAllowed ? 'block' : 'none';\n",
              "\n",
              "        async function convertToInteractive(key) {\n",
              "          const element = document.querySelector('#df-939cb289-7bb7-4697-9203-ef187aa5afd8');\n",
              "          const dataTable =\n",
              "            await google.colab.kernel.invokeFunction('convertToInteractive',\n",
              "                                                     [key], {});\n",
              "          if (!dataTable) return;\n",
              "\n",
              "          const docLinkHtml = 'Like what you see? Visit the ' +\n",
              "            '<a target=\"_blank\" href=https://colab.research.google.com/notebooks/data_table.ipynb>data table notebook</a>'\n",
              "            + ' to learn more about interactive tables.';\n",
              "          element.innerHTML = '';\n",
              "          dataTable['output_type'] = 'display_data';\n",
              "          await google.colab.output.renderOutput(dataTable, element);\n",
              "          const docLink = document.createElement('div');\n",
              "          docLink.innerHTML = docLinkHtml;\n",
              "          element.appendChild(docLink);\n",
              "        }\n",
              "      </script>\n",
              "    </div>\n",
              "  </div>\n",
              "  "
            ]
          },
          "metadata": {},
          "execution_count": 75
        }
      ]
    },
    {
      "cell_type": "code",
      "source": [
        "# Saving this final data for reference during deployment\n",
        "DataForML.to_pickle('DataForML.pkl')"
      ],
      "metadata": {
        "id": "2MwkWF40wBNR"
      },
      "execution_count": 76,
      "outputs": []
    },
    {
      "cell_type": "markdown",
      "source": [
        "# Data Pre-Processing"
      ],
      "metadata": {
        "id": "9C6-VRSQD6pv"
      }
    }
  ]
}